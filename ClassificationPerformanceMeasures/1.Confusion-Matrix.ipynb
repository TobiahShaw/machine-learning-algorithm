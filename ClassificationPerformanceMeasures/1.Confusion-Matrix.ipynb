{
 "cells": [
  {
   "cell_type": "markdown",
   "metadata": {},
   "source": [
    "# 准确度陷阱和混淆矩阵\n",
    "\n",
    "## 分类准确度问题\n",
    "\n",
    "如果有个二分类系统预测准确度为99.9%\n",
    "\n",
    "如果其中一个分类的发生概率只有0.1%\n",
    "\n",
    "那么系统只需要全部预测另一个分类就能达到99.9%的准确率\n",
    "\n",
    "**对于极度偏斜的数据（Skewed Data），只使用分了准确度是远远不够的**\n",
    "\n",
    "## 混淆矩阵\n",
    "\n",
    "### 对于二分类问题\n",
    "\n",
    "![confusion matrix](..\\img\\confusion-matrix.png)"
   ]
  }
 ],
 "metadata": {
  "kernelspec": {
   "display_name": "Python 3",
   "language": "python",
   "name": "python3"
  },
  "language_info": {
   "codemirror_mode": {
    "name": "ipython",
    "version": 3
   },
   "file_extension": ".py",
   "mimetype": "text/x-python",
   "name": "python",
   "nbconvert_exporter": "python",
   "pygments_lexer": "ipython3",
   "version": "3.6.5"
  }
 },
 "nbformat": 4,
 "nbformat_minor": 2
}
