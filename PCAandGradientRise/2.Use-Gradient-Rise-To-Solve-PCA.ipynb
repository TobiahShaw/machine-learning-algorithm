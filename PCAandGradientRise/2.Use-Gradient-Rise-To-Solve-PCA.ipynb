{
 "cells": [
  {
   "cell_type": "markdown",
   "metadata": {},
   "source": [
    "# 梯度上升法解决主成分分析问题\n",
    "\n",
    "目标：求w，使得\n",
    "\n",
    "$$f(X) = \\frac{1}{m}\\sum_{i=1}^m(X_1^{(i)}w_1 + X_2^{(i)}w_2 + \\ldots + X_n^{(i)}w_n)^2$$\n",
    "\n",
    "最大\n",
    "\n",
    "**为了使用梯度上升法，求梯度：**\n",
    "\n",
    "$$\\nabla f = \\begin{pmatrix}\n",
    "\\frac{\\partial f}{\\partial w_1} \\\\\\\\\n",
    "\\frac{\\partial f}{\\partial w_2} \\\\\\\\\n",
    "\\vdots \\\\\\\\\n",
    "\\frac{\\partial f}{\\partial w_n} \\\\\\\\\n",
    "\\end{pmatrix} = \n",
    "\\frac{2}{m} \\begin{pmatrix}\n",
    "\\sum_{i=1}^m(X_1^{(i)}w_1 + X_2^{(i)}w_2 + \\ldots + X_n^{(i)}w_n)X_1^{(i)} \\\\\\\\\n",
    "\\sum_{i=1}^m(X_1^{(i)}w_1 + X_2^{(i)}w_2 + \\ldots + X_n^{(i)}w_n)X_2^{(i)} \\\\\\\\\n",
    "\\vdots \\\\\\\\\n",
    "\\sum_{i=1}^m(X_1^{(i)}w_1 + X_2^{(i)}w_2 + \\ldots + X_n^{(i)}w_n)X_n^{(i)} \\\\\\\\\n",
    "\\end{pmatrix} = \\begin{pmatrix}\n",
    "\\sum_{i=1}^m(X^{(i)}w)X_1^{(i)} \\\\\\\\\n",
    "\\sum_{i=1}^m(X^{(i)}w)X_2^{(i)} \\\\\\\\\n",
    "\\vdots \\\\\\\\\n",
    "\\sum_{i=1}^m(X^{(i)}w)X_n^{(i)} \\\\\\\\\n",
    "\\end{pmatrix}$$\n",
    "\n",
    "$$\\nabla f = \\frac{2}{m} \\cdot X^T (Xw)$$"
   ]
  },
  {
   "cell_type": "code",
   "execution_count": null,
   "metadata": {},
   "outputs": [],
   "source": []
  }
 ],
 "metadata": {
  "kernelspec": {
   "display_name": "Python 3",
   "language": "python",
   "name": "python3"
  },
  "language_info": {
   "codemirror_mode": {
    "name": "ipython",
    "version": 3
   },
   "file_extension": ".py",
   "mimetype": "text/x-python",
   "name": "python",
   "nbconvert_exporter": "python",
   "pygments_lexer": "ipython3",
   "version": "3.6.5"
  }
 },
 "nbformat": 4,
 "nbformat_minor": 2
}
