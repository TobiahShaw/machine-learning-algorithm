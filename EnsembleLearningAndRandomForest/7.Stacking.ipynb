{
 "cells": [
  {
   "cell_type": "markdown",
   "metadata": {},
   "source": [
    "# Stacking\n",
    "\n",
    "![stacking](../img/stacking.PNG)\n",
    "\n",
    "如上图，左侧是stacking原理的示意图，右边是训练方式\n",
    "\n",
    "原理：\n",
    "- 先训练出若干个模型\n",
    "- 不适用这若干个模型预测的结果，而是将结果作为样本再训练一个新的模型\n",
    "\n",
    "训练方式：\n",
    "- 将训练集分为两部分，使用第一部分训练出若干个模型\n",
    "- 将训练集另一部分喂给这若干个模型得到预测结果集合\n",
    "- 将训练结果集合作为样本，训练上层的那个模型\n",
    "\n",
    "我们也可以做多层的stacking\n",
    "\n",
    "![stacking multi layer](../img/stacking_mult_layer.PNG)\n",
    "\n",
    "**需要注意的是stacking非常容易过拟合**"
   ]
  },
  {
   "cell_type": "code",
   "execution_count": null,
   "metadata": {},
   "outputs": [],
   "source": []
  }
 ],
 "metadata": {
  "kernelspec": {
   "display_name": "Python 3",
   "language": "python",
   "name": "python3"
  },
  "language_info": {
   "codemirror_mode": {
    "name": "ipython",
    "version": 3
   },
   "file_extension": ".py",
   "mimetype": "text/x-python",
   "name": "python",
   "nbconvert_exporter": "python",
   "pygments_lexer": "ipython3",
   "version": "3.6.5"
  }
 },
 "nbformat": 4,
 "nbformat_minor": 2
}
