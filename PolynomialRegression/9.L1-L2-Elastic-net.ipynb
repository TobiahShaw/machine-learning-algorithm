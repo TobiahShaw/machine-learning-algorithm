{
 "cells": [
  {
   "cell_type": "markdown",
   "metadata": {},
   "source": [
    "### Lp 范数\n",
    "\n",
    "$$||x||_p = (\\sum_{i=1}^n|x_i|^p)^{\\frac{1}{p}}$$\n",
    "\n",
    "以上称为Lp范数\n",
    "\n",
    "### L2 正则项\n",
    "\n",
    "Ridge中：\n",
    "\n",
    "$$\\sum_{i=1}^n\\theta^2$$\n",
    "\n",
    "为L2正则项\n",
    "\n",
    "### L1 正则项\n",
    "\n",
    "LASSO中：\n",
    "\n",
    "$$\\sum_{i=1}^n|\\theta|$$\n",
    "\n",
    "为L1正则项\n",
    "\n",
    "### Ln 正则项\n",
    "\n",
    "$$\\sum_{i=1}^m|\\theta|^n$$\n",
    "\n",
    "### L0 正则项\n",
    "\n",
    "$$J(\\theta) = MSE(y,\\hat{y};\\theta) + min\\{number-of-non-zero-\\theta\\}$$\n",
    "\n",
    "其中的\n",
    "$$min\\{number-of-non-zero-\\theta\\}$$\n",
    "\n",
    "代表theta中非零的个数尽可能小，称为L0正则项\n",
    "\n",
    "**实际上我们很少使用L0正则，实际用L1取代，因为L0正则的优化是个NP难的问题**\n",
    "\n",
    "### 弹性网 Elastic Net\n",
    "\n",
    "$$J(\\theta) = MSE(y,\\hat{y};\\theta) + r\\alpha\\sum_{i=1}^n|\\theta_i| + \\frac{1-r}{2}\\alpha\\sum_{i=1}^n\\theta_i^2$$\n",
    "\n",
    "同时结合了岭回归和LASSO的优势\n",
    "\n",
    "计算量足够应该优先选择岭回归，不足时优先选择弹性网"
   ]
  },
  {
   "cell_type": "code",
   "execution_count": null,
   "metadata": {},
   "outputs": [],
   "source": []
  }
 ],
 "metadata": {
  "kernelspec": {
   "display_name": "Python 3",
   "language": "python",
   "name": "python3"
  },
  "language_info": {
   "codemirror_mode": {
    "name": "ipython",
    "version": 3
   },
   "file_extension": ".py",
   "mimetype": "text/x-python",
   "name": "python",
   "nbconvert_exporter": "python",
   "pygments_lexer": "ipython3",
   "version": "3.6.5"
  }
 },
 "nbformat": 4,
 "nbformat_minor": 2
}
