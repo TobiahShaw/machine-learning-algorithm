{
 "cells": [
  {
   "cell_type": "markdown",
   "metadata": {},
   "source": [
    "# 模型正则化\n",
    "\n",
    "模型正则化：限制参数的大小"
   ]
  },
  {
   "cell_type": "code",
   "execution_count": 1,
   "metadata": {},
   "outputs": [],
   "source": [
    "import numpy as np\n",
    "import matplotlib.pyplot as plt"
   ]
  },
  {
   "cell_type": "code",
   "execution_count": 2,
   "metadata": {},
   "outputs": [],
   "source": [
    "np.random.seed(42)\n",
    "x = np.random.uniform(-3.0, 3.0, size=100)\n",
    "X = x.reshape(-1, 1)\n",
    "y = 0.5 * x**2 + x + 2 + np.random.normal(0, 1, size=100)"
   ]
  },
  {
   "cell_type": "markdown",
   "metadata": {},
   "source": [
    "### 过拟合"
   ]
  },
  {
   "cell_type": "code",
   "execution_count": 3,
   "metadata": {},
   "outputs": [],
   "source": [
    "from sklearn.linear_model import LinearRegression\n",
    "from sklearn.pipeline import Pipeline\n",
    "from sklearn.preprocessing import PolynomialFeatures\n",
    "from sklearn.preprocessing import StandardScaler\n",
    "\n",
    "lin_reg = LinearRegression()\n",
    "def PolynomialRegression(degree):\n",
    "    return Pipeline([\n",
    "        (\"poly\", PolynomialFeatures(degree=degree)),\n",
    "        (\"std_scaler\", StandardScaler()),\n",
    "        (\"lin_reg\", lin_reg)\n",
    "    ])"
   ]
  },
  {
   "cell_type": "code",
   "execution_count": 4,
   "metadata": {},
   "outputs": [
    {
     "data": {
      "text/plain": [
       "0.3754848827875088"
      ]
     },
     "execution_count": 4,
     "metadata": {},
     "output_type": "execute_result"
    }
   ],
   "source": [
    "from sklearn.metrics import mean_squared_error\n",
    "\n",
    "poly100_reg = PolynomialRegression(100)\n",
    "poly100_reg.fit(X, y)\n",
    "\n",
    "y100_predict = poly100_reg.predict(X)\n",
    "mean_squared_error(y, y100_predict)"
   ]
  },
  {
   "cell_type": "code",
   "execution_count": 5,
   "metadata": {},
   "outputs": [],
   "source": [
    "x_plot = np.linspace(-3, 3 , num=100).reshape(-1, 1)\n",
    "y_plot = poly100_reg.predict(x_plot)"
   ]
  },
  {
   "cell_type": "code",
   "execution_count": 6,
   "metadata": {},
   "outputs": [
    {
     "data": {
      "image/png": "[encoded data removed]",
      "text/plain": [
       "<Figure size 432x288 with 1 Axes>"
      ]
     },
     "metadata": {},
     "output_type": "display_data"
    }
   ],
   "source": [
    "plt.scatter(x, y)\n",
    "plt.plot(x_plot[:,0], y_plot, color='r')\n",
    "plt.axis([-3, 3, 0, 10])\n",
    "plt.show()"
   ]
  },
  {
   "cell_type": "code",
   "execution_count": 7,
   "metadata": {},
   "outputs": [
    {
     "data": {
      "text/plain": [
       "array([ 1.38631499e+13, -1.25544614e+00,  1.56026168e+02,  1.68069375e+03,\n",
       "       -1.68601016e+04, -1.68272359e+05,  7.71064706e+05,  7.23090534e+06,\n",
       "       -1.91996283e+07, -1.74354719e+08,  2.94974315e+08,  2.67388186e+09,\n",
       "       -2.99793818e+09, -2.79560169e+10,  2.09075833e+10,  2.07407006e+11,\n",
       "       -1.01035202e+11, -1.11497852e+12,  3.30270224e+11,  4.36549129e+12,\n",
       "       -6.59203504e+11, -1.22918782e+13,  4.49650719e+11,  2.38651138e+13,\n",
       "        1.37728519e+12, -2.84079880e+13, -4.08949174e+12,  1.19668495e+13,\n",
       "        3.49365070e+12,  1.56684236e+13,  1.92292454e+12, -1.72710909e+13,\n",
       "       -3.90708216e+12, -1.10171333e+13, -2.28767095e+12,  1.50569286e+13,\n",
       "        3.46634225e+12,  1.31064858e+13,  4.25862934e+12, -8.28344845e+12,\n",
       "       -1.52192116e+12, -1.56818437e+13, -5.94812160e+12, -3.53224842e+12,\n",
       "       -1.58040014e+12,  1.16427502e+13,  2.10690938e+12,  1.42875218e+13,\n",
       "        6.62702778e+12,  6.94354739e+11,  2.64446129e+12, -1.09551649e+13,\n",
       "       -3.19269432e+12, -1.38208446e+13, -6.05181353e+12, -1.68263836e+12,\n",
       "       -4.15126552e+12,  5.89280332e+12, -8.50809224e+11,  1.26899958e+13,\n",
       "        6.72112973e+12,  7.01890681e+12,  6.73979114e+12,  5.88869977e+11,\n",
       "        3.65608733e+12, -8.82831561e+12, -3.00647443e+12, -1.03896384e+13,\n",
       "       -5.78071241e+12, -6.80141970e+12, -7.51551904e+12,  4.19132890e+11,\n",
       "       -3.72436213e+12,  7.67422420e+12,  2.34177354e+12,  1.13824834e+13,\n",
       "        6.34139485e+12,  7.08366721e+12,  9.45084773e+12, -1.53316495e+12,\n",
       "        4.21497111e+12, -7.77986203e+12, -2.34938942e+12, -1.00780275e+13,\n",
       "       -7.44948260e+12, -6.36492407e+12, -8.71902608e+12,  2.42418274e+12,\n",
       "       -6.94476956e+12,  9.68478575e+12,  4.17345899e+12,  6.93957780e+12,\n",
       "        1.24289620e+13,  1.40611026e+12,  9.20306220e+12, -7.18328074e+12,\n",
       "       -3.46422073e+12, -6.01580879e+12, -1.81228992e+13,  4.99312135e+12,\n",
       "        9.45158780e+12])"
      ]
     },
     "execution_count": 7,
     "metadata": {},
     "output_type": "execute_result"
    }
   ],
   "source": [
    "lin_reg.coef_"
   ]
  },
  {
   "cell_type": "markdown",
   "metadata": {},
   "source": [
    "可以看到过拟合的时候系数值会很大\n",
    "\n",
    "### 模型正则化\n",
    "\n",
    "目标：使\n",
    "\n",
    "$$\\sum_{i=1}^m(y^{(i)} - \\theta_0 - \\theta_1X_1^{(i)} - \\theta_2X_2^{(i)} - \\ldots - \\theta_nX_n^{(i)})^2$$\n",
    "\n",
    "尽可能小，即\n",
    "\n",
    "目标：使\n",
    "\n",
    "$$J(\\theta) = MSE(y, \\hat{y};\\theta)$$\n",
    "\n",
    "尽可能小\n",
    "\n",
    "**加入模型正则化**\n",
    "\n",
    "目标：使\n",
    "\n",
    "$$J(\\theta) = MSE(y, \\hat{y};\\theta) + \\alpha\\frac{1}{2}\\sum_{i=1}^n\\theta_i^2$$\n",
    "\n",
    "尽可能小\n",
    "\n",
    "- 可以看到模型正则化时，不需要考虑theta0，因为theta0是截距，不影响模型的陡峭程度\n",
    "- 式子里的二分之一是为了求导后计算方便\n",
    "- alpha是一个新得超参数，表示正则化时系数的权重，为0时不进行正则化\n",
    "\n",
    "我们称这种模型正则化为岭回归\n",
    "\n",
    "### 岭回归 Ridge Regression\n",
    "\n",
    "目标：使\n",
    "\n",
    "$$J(\\theta) = MSE(y, \\hat{y};\\theta) + \\alpha\\frac{1}{2}\\sum_{i=1}^n\\theta_i^2$$\n",
    "\n",
    "尽可能小"
   ]
  },
  {
   "cell_type": "markdown",
   "metadata": {},
   "source": [
    "#### 过拟合"
   ]
  },
  {
   "cell_type": "code",
   "execution_count": 8,
   "metadata": {},
   "outputs": [],
   "source": [
    "from sklearn.model_selection import train_test_split\n",
    "\n",
    "np.random.seed(666)\n",
    "X_train, X_test, y_train, y_test = train_test_split(X, y)"
   ]
  },
  {
   "cell_type": "code",
   "execution_count": 9,
   "metadata": {},
   "outputs": [
    {
     "data": {
      "text/plain": [
       "167.94010860867127"
      ]
     },
     "execution_count": 9,
     "metadata": {},
     "output_type": "execute_result"
    }
   ],
   "source": [
    "poly20_reg = PolynomialRegression(degree=20)\n",
    "poly20_reg.fit(X_train, y_train)\n",
    "\n",
    "y20_predict = poly20_reg.predict(X_test)\n",
    "mean_squared_error(y_test, y20_predict)"
   ]
  },
  {
   "cell_type": "code",
   "execution_count": 10,
   "metadata": {},
   "outputs": [],
   "source": [
    "y20_plot = poly20_reg.predict(x_plot)"
   ]
  },
  {
   "cell_type": "code",
   "execution_count": 11,
   "metadata": {},
   "outputs": [
    {
     "data": {
      "image/png": "[encoded data removed]",
      "text/plain": [
       "<Figure size 432x288 with 1 Axes>"
      ]
     },
     "metadata": {},
     "output_type": "display_data"
    }
   ],
   "source": [
    "plt.scatter(x, y)\n",
    "plt.plot(x_plot[:,0], y20_plot, color='r')\n",
    "plt.axis([-3, 3, 0, 6])\n",
    "plt.show()"
   ]
  },
  {
   "cell_type": "code",
   "execution_count": 12,
   "metadata": {},
   "outputs": [],
   "source": [
    "def plot_model(model):\n",
    "    x_plot = np.linspace(-3, 3 , num=100).reshape(-1, 1)\n",
    "    y_plot = model.predict(x_plot)\n",
    "    \n",
    "    plt.scatter(x, y)\n",
    "    plt.plot(x_plot[:,0], y_plot, color='r')\n",
    "    plt.axis([-3, 3, 0, 6])\n",
    "    plt.show()"
   ]
  },
  {
   "cell_type": "markdown",
   "metadata": {},
   "source": [
    "#### 岭回归"
   ]
  },
  {
   "cell_type": "code",
   "execution_count": 13,
   "metadata": {},
   "outputs": [],
   "source": [
    "from sklearn.linear_model import Ridge\n",
    "\n",
    "def RidgeRegression(degree, alpha):\n",
    "    return Pipeline([\n",
    "        (\"poly\", PolynomialFeatures(degree=degree)),\n",
    "        (\"std_scaler\", StandardScaler()),\n",
    "        (\"ridge_reg\", Ridge(alpha=alpha))\n",
    "    ])"
   ]
  },
  {
   "cell_type": "code",
   "execution_count": 14,
   "metadata": {},
   "outputs": [
    {
     "data": {
      "text/plain": [
       "1.3233214212703919"
      ]
     },
     "execution_count": 14,
     "metadata": {},
     "output_type": "execute_result"
    }
   ],
   "source": [
    "ridge00001_reg = RidgeRegression(20, 0.0001)\n",
    "ridge00001_reg.fit(X_train, y_train)\n",
    "\n",
    "y00001_ridge_predict = ridge00001_reg.predict(X_test)\n",
    "mean_squared_error(y_test, y00001_ridge_predict)"
   ]
  },
  {
   "cell_type": "code",
   "execution_count": 15,
   "metadata": {},
   "outputs": [
    {
     "data": {
      "image/png": "[encoded data removed]",
      "text/plain": [
       "<Figure size 432x288 with 1 Axes>"
      ]
     },
     "metadata": {},
     "output_type": "display_data"
    }
   ],
   "source": [
    "plot_model(ridge00001_reg)"
   ]
  },
  {
   "cell_type": "code",
   "execution_count": 16,
   "metadata": {},
   "outputs": [
    {
     "data": {
      "text/plain": [
       "1.1805874402435317"
      ]
     },
     "execution_count": 16,
     "metadata": {},
     "output_type": "execute_result"
    }
   ],
   "source": [
    "ridge1_reg = RidgeRegression(20, 1)\n",
    "ridge1_reg.fit(X_train, y_train)\n",
    "\n",
    "y1_ridge_predict = ridge1_reg.predict(X_test)\n",
    "mean_squared_error(y_test, y1_ridge_predict)"
   ]
  },
  {
   "cell_type": "code",
   "execution_count": 17,
   "metadata": {},
   "outputs": [
    {
     "data": {
      "image/png": "[encoded data removed]",
      "text/plain": [
       "<Figure size 432x288 with 1 Axes>"
      ]
     },
     "metadata": {},
     "output_type": "display_data"
    }
   ],
   "source": [
    "plot_model(ridge1_reg)"
   ]
  },
  {
   "cell_type": "code",
   "execution_count": 18,
   "metadata": {},
   "outputs": [
    {
     "data": {
      "text/plain": [
       "2.183462033618558"
      ]
     },
     "execution_count": 18,
     "metadata": {},
     "output_type": "execute_result"
    }
   ],
   "source": [
    "ridge100_reg = RidgeRegression(20, 100)\n",
    "ridge100_reg.fit(X_train, y_train)\n",
    "\n",
    "y100_ridge_predict = ridge100_reg.predict(X_test)\n",
    "mean_squared_error(y_test, y100_ridge_predict)"
   ]
  },
  {
   "cell_type": "code",
   "execution_count": 19,
   "metadata": {
    "scrolled": true
   },
   "outputs": [
    {
     "data": {
      "image/png": "[encoded data removed]",
      "text/plain": [
       "<Figure size 432x288 with 1 Axes>"
      ]
     },
     "metadata": {},
     "output_type": "display_data"
    }
   ],
   "source": [
    "plot_model(ridge100_reg)"
   ]
  },
  {
   "cell_type": "code",
   "execution_count": null,
   "metadata": {},
   "outputs": [],
   "source": []
  }
 ],
 "metadata": {
  "kernelspec": {
   "display_name": "Python 3",
   "language": "python",
   "name": "python3"
  },
  "language_info": {
   "codemirror_mode": {
    "name": "ipython",
    "version": 3
   },
   "file_extension": ".py",
   "mimetype": "text/x-python",
   "name": "python",
   "nbconvert_exporter": "python",
   "pygments_lexer": "ipython3",
   "version": "3.6.5"
  }
 },
 "nbformat": 4,
 "nbformat_minor": 2
}
