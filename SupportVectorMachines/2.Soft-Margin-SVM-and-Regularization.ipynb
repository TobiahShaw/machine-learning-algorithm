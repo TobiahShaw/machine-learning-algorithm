{
 "cells": [
  {
   "cell_type": "markdown",
   "metadata": {},
   "source": [
    "# Soft Margin SVM 和 SVM 的正则化"
   ]
  },
  {
   "cell_type": "markdown",
   "metadata": {},
   "source": [
    "- 具有容错能力\n",
    "\n",
    "在hard margin SVM 中 $s.t.\\quad y^{(i)}(w^Tx^{(i)} + b) \\geq 1$ 表示，所有点都落在两条平行直线$w^Tx + b = 1$ 和 $w^Tx + b = -1$之外\n",
    "\n",
    "在soft margin SVM中，我们把条件稍作宽松 $s.t.\\quad y^{(i)}(w^Tx^{(i)} + b) \\geq 1 - \\zeta_i \\quad \\zeta_i \\geq 0$\n",
    "\n",
    "我们又不希望$\\zeta_i$太大，我们就需要这样表征$$min\\frac{1}{2}||w||^2 + \\sum_{i=1}^m \\zeta_i$$\n",
    "\n",
    "### Soft Margin SVM 数学表达\n",
    "\n",
    "- L1正则\n",
    "\n",
    "$$min\\frac{1}{2}||w||^2 + C\\sum_{i=1}^m \\zeta_i$$\n",
    "\n",
    "$$s.t.\\quad y^{(i)}(w^Tx^{(i)} + b) \\geq 1 - \\zeta_i \\quad \\zeta_i \\geq 0$$\n",
    "\n",
    "- L2正则\n",
    "\n",
    "$$min\\frac{1}{2}||w||^2 + C\\sum_{i=1}^m \\zeta_i^2$$\n",
    "\n",
    "$$s.t.\\quad y^{(i)}(w^Tx^{(i)} + b) \\geq 1 - \\zeta_i \\quad \\zeta_i \\geq 0$$\n",
    "\n",
    "### 正则化\n",
    "\n",
    "可以看到，Soft Margin SVM 其实是在 Hard Margin SVM 后面加上了正则项，只是在 Soft Margin SVM 称之为容错能力"
   ]
  },
  {
   "cell_type": "code",
   "execution_count": null,
   "metadata": {},
   "outputs": [],
   "source": []
  }
 ],
 "metadata": {
  "kernelspec": {
   "display_name": "Python 3",
   "language": "python",
   "name": "python3"
  },
  "language_info": {
   "codemirror_mode": {
    "name": "ipython",
    "version": 3
   },
   "file_extension": ".py",
   "mimetype": "text/x-python",
   "name": "python",
   "nbconvert_exporter": "python",
   "pygments_lexer": "ipython3",
   "version": "3.6.5"
  }
 },
 "nbformat": 4,
 "nbformat_minor": 2
}
