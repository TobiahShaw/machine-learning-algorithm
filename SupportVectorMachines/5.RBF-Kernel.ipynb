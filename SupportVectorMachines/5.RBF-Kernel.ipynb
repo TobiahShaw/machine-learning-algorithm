{
 "cells": [
  {
   "cell_type": "markdown",
   "metadata": {},
   "source": [
    "# 什么是核函数\n",
    "\n",
    "SVM本质是一个最优化问题，我们需要把它转化为一个更好解的形式\n",
    "\n",
    "由\n",
    "\n",
    "$$min\\frac{1}{2}||w||^2 + C \\sum_{i=1}^m \\zeta_i$$\n",
    "\n",
    "$$s.t. \\quad y^{(i)}(w^Tx^{(i)} + b) \\geq 1 - \\zeta_i \\qquad \\zeta_i \\geq 0$$\n",
    "\n",
    "转换为\n",
    "\n",
    "$$max\\sum_{i=1}^m\\alpha_i - \\frac{1}{2}\\sum_{i=1}^m\\sum_{j=1}^m \\alpha_i \\alpha_j y_i y_j x_i x_j$$\n",
    "\n",
    "$$s.t. \\quad 0 \\leq \\alpha_i \\leq C \\qquad \\sum_{i=1}^m \\alpha_i y_i = 0$$\n",
    "\n",
    "**核函数**\n",
    "\n",
    "对于使用新的特征（比方说多项式），我们之前都是先将式子中的特征$x_i$和$x_j$变换为新特征$x_i^{'}$和$x_j^{'}$，然后进行运算\n",
    "\n",
    "如果不先分别处理式子中$x_i$和$x_j$，然后进行运算，而是直接有一个函数$K(x_i, x_j) = x_i^{'}x_j^{'}$\n",
    "\n",
    "$$max\\sum_{i=1}^m\\alpha_i - \\frac{1}{2}\\sum_{i=1}^m\\sum_{j=1}^m \\alpha_i \\alpha_j y_i y_j K(x_i, x_j)$$\n",
    "\n",
    "$$s.t. \\quad 0 \\leq \\alpha_i \\leq C \\qquad \\sum_{i=1}^m \\alpha_i y_i = 0$$\n",
    "\n",
    "那我们称$K(x_i, x_j)$为核函数\n",
    "\n",
    "优点：\n",
    "\n",
    "- 减少了计算量\n",
    "- 减少了存储空间"
   ]
  },
  {
   "cell_type": "markdown",
   "metadata": {},
   "source": [
    "## 多项式核函数\n",
    "\n",
    "### 二次\n",
    "\n",
    "$$K(x, y) = (x \\cdot y + 1)^2$$\n",
    "\n",
    "如果不使用核函数\n",
    "\n",
    "$$K(x, y) = (\\sum_{i=1}^m x_i y_i + 1)^2$$\n",
    "\n",
    "$$K(x, y) = \\sum_{i=1}^n(x_i^2)(y_i^2) + \\sum_{i=2}^n\\sum_{j=1}^{i-1}(\\sqrt 2 x_i x_j)(\\sqrt 2 y_i y_j) + \\sum_{i=1}^n(\\sqrt 2 x_i)(\\sqrt 2 y_i) + 1 = x^{'} \\cdot y^{'}$$\n",
    "\n",
    "$$x^{'}=(x_n^2, \\ldots, x_1^2, \\sqrt 2 x_n x_{n-1}, \\ldots, \\sqrt 2 x_n, \\dots, \\sqrt 2 x_1, 1)$$\n",
    "\n",
    "$y^{'}$也是，类似的形式，先计算出$x^{'}$和$y^{'}$，再运算点乘，很麻烦\n",
    "\n",
    "### 多次\n",
    "\n",
    "$$K(x, y) = (x \\cdot y + c)^d$$\n",
    "\n",
    "## 线性核函数\n",
    "\n",
    "$$K(x, y) = x \\cdot y$$"
   ]
  },
  {
   "cell_type": "markdown",
   "metadata": {},
   "source": [
    "## 高斯核函数\n",
    "\n",
    "使用很多，可以看做正态分布的一种表达方式\n",
    "\n",
    "由高斯函数\n",
    "\n",
    "$$g(x) = \\frac{1}{\\sigma \\sqrt{2\\pi}}e^{-\\frac{1}{2}(\\frac{\\, x-\\mu \\;}{\\sigma})^2}$$\n",
    "\n",
    "变化而来\n",
    "\n",
    "高斯核函数\n",
    "\n",
    "$$K(x, y) = e^{-\\gamma ||x-y||^2}$$\n",
    "\n",
    "有时候也被成为 **RBF核 Radial Basis Function Kernel（径向基函数核）**\n",
    "\n",
    "本质：升维，将每一个样本点映射到一个无穷维的特征空间\n",
    "\n",
    "**依靠升维可以使得原本线性不可分的数据线性可分**"
   ]
  },
  {
   "cell_type": "markdown",
   "metadata": {},
   "source": [
    "### 直观理解高斯核函数"
   ]
  },
  {
   "cell_type": "code",
   "execution_count": 1,
   "metadata": {},
   "outputs": [],
   "source": [
    "import numpy as np\n",
    "import matplotlib.pyplot as plt"
   ]
  },
  {
   "cell_type": "code",
   "execution_count": 2,
   "metadata": {},
   "outputs": [
    {
     "data": {
      "text/plain": [
       "array([-4, -3, -2, -1,  0,  1,  2,  3,  4])"
      ]
     },
     "execution_count": 2,
     "metadata": {},
     "output_type": "execute_result"
    }
   ],
   "source": [
    "x = np.arange(-4, 5, 1)\n",
    "x"
   ]
  },
  {
   "cell_type": "code",
   "execution_count": 3,
   "metadata": {},
   "outputs": [
    {
     "data": {
      "text/plain": [
       "array([0, 0, 1, 1, 1, 1, 1, 0, 0])"
      ]
     },
     "execution_count": 3,
     "metadata": {},
     "output_type": "execute_result"
    }
   ],
   "source": [
    "y = np.array((x >= -2) & (x <= 2), dtype=int)\n",
    "y"
   ]
  },
  {
   "cell_type": "code",
   "execution_count": 4,
   "metadata": {
    "scrolled": true
   },
   "outputs": [
    {
     "data": {
      "image/png": "[encoded data removed]",
      "text/plain": [
       "<Figure size 432x288 with 1 Axes>"
      ]
     },
     "metadata": {},
     "output_type": "display_data"
    }
   ],
   "source": [
    "plt.scatter(x[y==0], [0] * len(x[y==0]))\n",
    "plt.scatter(x[y==1], [0] * len(x[y==1]))\n",
    "plt.show()"
   ]
  },
  {
   "cell_type": "markdown",
   "metadata": {},
   "source": [
    "可以看到是个线性不可分的数据"
   ]
  },
  {
   "cell_type": "code",
   "execution_count": 5,
   "metadata": {},
   "outputs": [],
   "source": [
    "def gaussian(x, l):\n",
    "    gamma = 1.0\n",
    "    return np.exp(-gamma * (x-l)**2)"
   ]
  },
  {
   "cell_type": "code",
   "execution_count": 6,
   "metadata": {},
   "outputs": [],
   "source": [
    "l1,l2 = -1,1\n",
    "\n",
    "X_new = np.empty((len(x), 2))\n",
    "for i, data in enumerate(x):\n",
    "    X_new[i, 0] = gaussian(data, l1)\n",
    "    X_new[i, 1] = gaussian(data, l2)"
   ]
  },
  {
   "cell_type": "code",
   "execution_count": 7,
   "metadata": {},
   "outputs": [
    {
     "data": {
      "image/png": "[encoded data removed]",
      "text/plain": [
       "<Figure size 432x288 with 1 Axes>"
      ]
     },
     "metadata": {},
     "output_type": "display_data"
    }
   ],
   "source": [
    "plt.scatter(X_new[y==0,0], X_new[y==0,1])\n",
    "plt.scatter(X_new[y==1,0], X_new[y==1,1])\n",
    "plt.show()"
   ]
  },
  {
   "cell_type": "markdown",
   "metadata": {},
   "source": [
    "经过高斯核函数，变成线性可分的问题了"
   ]
  },
  {
   "cell_type": "markdown",
   "metadata": {},
   "source": [
    "### landmark\n",
    "\n",
    "上述两个点l1， l2， 称为两个landmark\n",
    "\n",
    "高斯核：对于每个数据点都是landmark\n",
    "\n",
    "m * n 的数据映射称为 m * m 的数据\n",
    "\n",
    "计算开销非常大，但是有些应用非常适合高斯核函数，比方说，初始维度很高，但是样本数不多，尤其是 n > m 的时候。比方说自然语言处理非常适合高斯核。\n",
    "\n",
    "### gamma\n",
    "\n",
    "gamma越大，高斯分布越窄；\n",
    "gamma越小，高斯分布越宽。"
   ]
  },
  {
   "cell_type": "markdown",
   "metadata": {},
   "source": [
    "### scikit-learn 中的高斯核函数"
   ]
  },
  {
   "cell_type": "code",
   "execution_count": 8,
   "metadata": {},
   "outputs": [],
   "source": [
    "from matplotlib.colors import ListedColormap\n",
    "\n",
    "def plot_decision_boundary(model, axis):\n",
    "    x0, x1 = np.meshgrid(\n",
    "        np.linspace(axis[0], axis[1], int((axis[1] - axis[0]) * 100 )).reshape(-1, 1),\n",
    "        np.linspace(axis[2], axis[3], int((axis[3] - axis[2]) * 100 )).reshape(-1, 1)\n",
    "    )\n",
    "    X_new = np.c_[x0.ravel(), x1.ravel()]\n",
    "    \n",
    "    y_predict = model.predict(X_new)\n",
    "    zz = y_predict.reshape(x0.shape)\n",
    "    \n",
    "    custom_camp = ListedColormap(['#EF9A9A', '#FFF59F', '#90CAF9'])\n",
    "    plt.contourf(x0, x1, zz, cmap=custom_camp)"
   ]
  },
  {
   "cell_type": "code",
   "execution_count": 9,
   "metadata": {},
   "outputs": [],
   "source": [
    "from sklearn import datasets"
   ]
  },
  {
   "cell_type": "code",
   "execution_count": 10,
   "metadata": {},
   "outputs": [
    {
     "data": {
      "image/png": "[encoded data removed]",
      "text/plain": [
       "<Figure size 432x288 with 1 Axes>"
      ]
     },
     "metadata": {},
     "output_type": "display_data"
    }
   ],
   "source": [
    "X, y = datasets.make_moons(noise=0.15, random_state=666)\n",
    "\n",
    "plt.scatter(X[y==0,0], X[y==0,1])\n",
    "plt.scatter(X[y==1,0], X[y==1,1])\n",
    "plt.show()"
   ]
  },
  {
   "cell_type": "code",
   "execution_count": 11,
   "metadata": {},
   "outputs": [],
   "source": [
    "from sklearn.preprocessing import StandardScaler\n",
    "from sklearn.svm import SVC\n",
    "from sklearn.pipeline import Pipeline"
   ]
  },
  {
   "cell_type": "code",
   "execution_count": 12,
   "metadata": {},
   "outputs": [],
   "source": [
    "def RBFKerbelSVC(gamma=1.0):\n",
    "    return Pipeline([\n",
    "        (\"std_scaler\", StandardScaler()),\n",
    "        (\"svc\", SVC(kernel=\"rbf\", gamma=gamma))\n",
    "    ])"
   ]
  },
  {
   "cell_type": "code",
   "execution_count": 13,
   "metadata": {},
   "outputs": [
    {
     "data": {
      "image/png": "[encoded data removed]",
      "text/plain": [
       "<Figure size 432x288 with 1 Axes>"
      ]
     },
     "metadata": {},
     "output_type": "display_data"
    }
   ],
   "source": [
    "svc_gamma01 = RBFKerbelSVC(0.1)\n",
    "svc_gamma01.fit(X, y)\n",
    "\n",
    "plot_decision_boundary(svc_gamma01, [-1.5,2.5,-1,1.5])\n",
    "plt.scatter(X[y==0,0], X[y==0,1])\n",
    "plt.scatter(X[y==1,0], X[y==1,1])\n",
    "plt.show()"
   ]
  },
  {
   "cell_type": "code",
   "execution_count": 14,
   "metadata": {},
   "outputs": [
    {
     "data": {
      "image/png": "[encoded data removed]",
      "text/plain": [
       "<Figure size 432x288 with 1 Axes>"
      ]
     },
     "metadata": {},
     "output_type": "display_data"
    }
   ],
   "source": [
    "svc_gamma05 = RBFKerbelSVC(0.5)\n",
    "svc_gamma05.fit(X, y)\n",
    "\n",
    "plot_decision_boundary(svc_gamma05, [-1.5,2.5,-1,1.5])\n",
    "plt.scatter(X[y==0,0], X[y==0,1])\n",
    "plt.scatter(X[y==1,0], X[y==1,1])\n",
    "plt.show()"
   ]
  },
  {
   "cell_type": "code",
   "execution_count": 15,
   "metadata": {},
   "outputs": [
    {
     "data": {
      "image/png": "[encoded data removed]",
      "text/plain": [
       "<Figure size 432x288 with 1 Axes>"
      ]
     },
     "metadata": {},
     "output_type": "display_data"
    }
   ],
   "source": [
    "svc_gamma1 = RBFKerbelSVC(1)\n",
    "svc_gamma1.fit(X, y)\n",
    "\n",
    "plot_decision_boundary(svc_gamma1, [-1.5,2.5,-1,1.5])\n",
    "plt.scatter(X[y==0,0], X[y==0,1])\n",
    "plt.scatter(X[y==1,0], X[y==1,1])\n",
    "plt.show()"
   ]
  },
  {
   "cell_type": "code",
   "execution_count": 16,
   "metadata": {},
   "outputs": [
    {
     "data": {
      "image/png": "[encoded data removed]",
      "text/plain": [
       "<Figure size 432x288 with 1 Axes>"
      ]
     },
     "metadata": {},
     "output_type": "display_data"
    }
   ],
   "source": [
    "svc_gamma10 = RBFKerbelSVC(10)\n",
    "svc_gamma10.fit(X, y)\n",
    "\n",
    "plot_decision_boundary(svc_gamma10, [-1.5,2.5,-1,1.5])\n",
    "plt.scatter(X[y==0,0], X[y==0,1])\n",
    "plt.scatter(X[y==1,0], X[y==1,1])\n",
    "plt.show()"
   ]
  },
  {
   "cell_type": "code",
   "execution_count": 17,
   "metadata": {},
   "outputs": [
    {
     "data": {
      "image/png": "[encoded data removed]",
      "text/plain": [
       "<Figure size 432x288 with 1 Axes>"
      ]
     },
     "metadata": {},
     "output_type": "display_data"
    }
   ],
   "source": [
    "svc_gamma100 = RBFKerbelSVC(100)\n",
    "svc_gamma100.fit(X, y)\n",
    "\n",
    "plot_decision_boundary(svc_gamma100, [-1.5,2.5,-1,1.5])\n",
    "plt.scatter(X[y==0,0], X[y==0,1])\n",
    "plt.scatter(X[y==1,0], X[y==1,1])\n",
    "plt.show()"
   ]
  },
  {
   "cell_type": "markdown",
   "metadata": {},
   "source": [
    "可以看到，gamma取值越大，模型越复杂，会导致过拟合，过小会导致欠拟合"
   ]
  },
  {
   "cell_type": "code",
   "execution_count": null,
   "metadata": {},
   "outputs": [],
   "source": []
  }
 ],
 "metadata": {
  "kernelspec": {
   "display_name": "Python 3",
   "language": "python",
   "name": "python3"
  },
  "language_info": {
   "codemirror_mode": {
    "name": "ipython",
    "version": 3
   },
   "file_extension": ".py",
   "mimetype": "text/x-python",
   "name": "python",
   "nbconvert_exporter": "python",
   "pygments_lexer": "ipython3",
   "version": "3.6.5"
  }
 },
 "nbformat": 4,
 "nbformat_minor": 2
}
