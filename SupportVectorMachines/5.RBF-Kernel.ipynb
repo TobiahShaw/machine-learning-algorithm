{
 "cells": [
  {
   "cell_type": "markdown",
   "metadata": {},
   "source": [
    "# 什么是核函数\n",
    "\n",
    "SVM本质是一个最优化问题，我们需要把它转化为一个更好解的形式\n",
    "\n",
    "由\n",
    "\n",
    "$$min\\frac{1}{2}||w||^2 + C \\sum_{i=1}^m \\zeta_i$$\n",
    "\n",
    "$$s.t. \\quad y^{(i)}(w^Tx^{(i)} + b) \\geq 1 - \\zeta_i \\qquad \\zeta_i \\geq 0$$\n",
    "\n",
    "转换为\n",
    "\n",
    "$$max\\sum_{i=1}^m\\alpha_i - \\frac{1}{2}\\sum_{i=1}^m\\sum_{j=1}^m \\alpha_i \\alpha_j y_i y_j x_i x_j$$\n",
    "\n",
    "$$s.t. \\quad 0 \\leq \\alpha_i \\leq C \\qquad \\sum_{i=1}^m \\alpha_i y_i = 0$$\n",
    "\n",
    "**核函数**\n",
    "\n",
    "对于使用新的特征（比方说多项式），我们之前都是先将式子中的特征$x_i$和$x_j$变换为新特征$x_i^{'}$和$x_j^{'}$，然后进行运算\n",
    "\n",
    "如果不先分别处理式子中$x_i$和$x_j$，然后进行运算，而是直接有一个函数$K(x_i, x_j) = x_i^{'}x_j^{'}$\n",
    "\n",
    "$$max\\sum_{i=1}^m\\alpha_i - \\frac{1}{2}\\sum_{i=1}^m\\sum_{j=1}^m \\alpha_i \\alpha_j y_i y_j K(x_i, x_j)$$\n",
    "\n",
    "$$s.t. \\quad 0 \\leq \\alpha_i \\leq C \\qquad \\sum_{i=1}^m \\alpha_i y_i = 0$$\n",
    "\n",
    "那我们称$K(x_i, x_j)$为核函数\n",
    "\n",
    "优点：\n",
    "\n",
    "- 减少了计算量\n",
    "- 减少了存储空间"
   ]
  },
  {
   "cell_type": "markdown",
   "metadata": {},
   "source": [
    "## 多项式核函数\n",
    "\n",
    "### 二次\n",
    "\n",
    "$$K(x, y) = (x \\cdot y + 1)^2$$\n",
    "\n",
    "如果不使用核函数\n",
    "\n",
    "$$K(x, y) = (\\sum_{i=1}^m x_i y_i + 1)^2$$\n",
    "\n",
    "$$K(x, y) = \\sum_{i=1}^n(x_i^2)(y_i^2) + \\sum_{i=2}^n\\sum_{j=1}^{i-1}(\\sqrt 2 x_i x_j)(\\sqrt 2 y_i y_j) + \\sum_{i=1}^n(\\sqrt 2 x_i)(\\sqrt 2 y_i) + 1 = x^{'} \\cdot y^{'}$$\n",
    "\n",
    "$$x^{'}=(x_n^2, \\ldots, x_1^2, \\sqrt 2 x_n x_{n-1}, \\ldots, \\sqrt 2 x_n, \\dots, \\sqrt 2 x_1, 1)$$\n",
    "\n",
    "$y^{'}$也是，类似的形式，先计算出$x^{'}$和$y^{'}$，再运算点乘，很麻烦\n",
    "\n",
    "### 多次\n",
    "\n",
    "$$K(x, y) = (x \\cdot y + c)^d$$\n",
    "\n",
    "## 线性核函数\n",
    "\n",
    "$$K(x, y) = x \\cdot y$$"
   ]
  },
  {
   "cell_type": "code",
   "execution_count": null,
   "metadata": {},
   "outputs": [],
   "source": []
  }
 ],
 "metadata": {
  "kernelspec": {
   "display_name": "Python 3",
   "language": "python",
   "name": "python3"
  },
  "language_info": {
   "codemirror_mode": {
    "name": "ipython",
    "version": 3
   },
   "file_extension": ".py",
   "mimetype": "text/x-python",
   "name": "python",
   "nbconvert_exporter": "python",
   "pygments_lexer": "ipython3",
   "version": "3.6.5"
  }
 },
 "nbformat": 4,
 "nbformat_minor": 2
}
