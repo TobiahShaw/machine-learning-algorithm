{
 "cells": [
  {
   "cell_type": "markdown",
   "metadata": {},
   "source": [
    "# 逻辑回归的损失函数\n",
    "\n",
    "逻辑回归：\n",
    "\n",
    "$$\\hat{p} = \\sigma(\\theta^T \\cdot x_b) = \\frac{1}{1 + e^{-\\theta^T \\cdot x_b}}$$\n",
    "\n",
    "$$\\hat{y} = \\begin{cases}\n",
    "1, \\quad \\hat{p} \\geq 0.5 \\\\\\\\\n",
    "0, \\quad \\hat{p} \\leq 0.5\n",
    "\\end{cases}\n",
    "$$\n",
    "\n",
    "则损失函数为：\n",
    "\n",
    "$$cost = \\begin{cases}\n",
    "如果y=1,p越小,cost越大\\\\\\\\\n",
    "如果y=0,p越大,cost越大\n",
    "\\end{cases}$$\n",
    "\n",
    "我们可以用使用这种函数作为损失函数\n",
    "\n",
    "$$cost=\\begin{cases}\n",
    "-log(\\hat{p}), \\quad if \\quad y=1\\\\\\\\\n",
    "-log(1-\\hat{p}), \\quad if \\quad y=0\n",
    "\\end{cases}$$\n",
    "\n",
    "可以推导为：\n",
    "\n",
    "$$cost=-ylog(\\hat{p})-(1-y)log(1-\\hat{p}) \\qquad其中 (y \\in \\{0,1\\})$$\n",
    "\n",
    "则,对应m个样本\n",
    "\n",
    "$$J(\\theta) = -\\frac{1}{m}\\sum_{i=1}^my^{{(i)}}log(\\hat{p}^{(i)}) + (1-y^{(i)})log(1-\\hat{p}^{(i)})$$\n",
    "\n",
    "$$\\hat{p}^{(i)} = \\sigma(x_b^{(i)} \\theta) = \\frac{1}{1 + e^{-x_b^{(i)} \\theta}}$$\n",
    "\n",
    "$$J(\\theta) = -\\frac{1}{m}\\sum_{i=1}^my^{{(i)}}log(\\sigma(x_b^{(i)} \\theta)) + (1-y^{(i)})log(1-\\sigma(x_b^{(i)} \\theta))$$\n",
    "\n",
    "**对于这个算式，没有公式解，只能使用梯度下降法求解**"
   ]
  },
  {
   "cell_type": "code",
   "execution_count": null,
   "metadata": {},
   "outputs": [],
   "source": []
  }
 ],
 "metadata": {
  "kernelspec": {
   "display_name": "Python 3",
   "language": "python",
   "name": "python3"
  },
  "language_info": {
   "codemirror_mode": {
    "name": "ipython",
    "version": 3
   },
   "file_extension": ".py",
   "mimetype": "text/x-python",
   "name": "python",
   "nbconvert_exporter": "python",
   "pygments_lexer": "ipython3",
   "version": "3.6.5"
  }
 },
 "nbformat": 4,
 "nbformat_minor": 2
}
