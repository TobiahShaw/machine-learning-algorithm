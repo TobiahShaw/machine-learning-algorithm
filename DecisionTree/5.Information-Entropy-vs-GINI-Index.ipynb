{
 "cells": [
  {
   "cell_type": "markdown",
   "metadata": {},
   "source": [
    "# 信息熵 vs 基尼系数\n",
    "\n",
    "- 信息熵的计算比基尼系数稍慢。\n",
    "- scikit-learn 中默认为基尼系数。\n",
    "- 大多数的时候，二者没有特别的效果优劣。"
   ]
  }
 ],
 "metadata": {
  "kernelspec": {
   "display_name": "Python 3",
   "language": "python",
   "name": "python3"
  },
  "language_info": {
   "codemirror_mode": {
    "name": "ipython",
    "version": 3
   },
   "file_extension": ".py",
   "mimetype": "text/x-python",
   "name": "python",
   "nbconvert_exporter": "python",
   "pygments_lexer": "ipython3",
   "version": "3.6.5"
  }
 },
 "nbformat": 4,
 "nbformat_minor": 2
}
