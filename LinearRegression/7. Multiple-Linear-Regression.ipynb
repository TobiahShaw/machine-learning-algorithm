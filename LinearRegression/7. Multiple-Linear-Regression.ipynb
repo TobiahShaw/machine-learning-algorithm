{
 "cells": [
  {
   "cell_type": "markdown",
   "metadata": {},
   "source": [
    "# 多元线性回归\n",
    "\n",
    "$$y = \\theta_0 + \\theta_1x_1 + \\theta_2x_2 + ... + \\theta_nx_n$$\n",
    "\n",
    "$$\\hat{y} = \\theta_0 + \\theta_1X_1^{(i)} + \\theta_2X_2^{(i)} + ... + \\theta_nX_n^{(i)}$$\n",
    "\n",
    "**目标：** 找到$$\\theta_0,\\theta_1,\\theta_2,...,\\theta_n$$使\n",
    "\n",
    "$$\\sum_{i=1}^m(y^{(i)} - \\hat{y}^{(i)})^2$$\n",
    "\n",
    "尽可能小"
   ]
  },
  {
   "cell_type": "markdown",
   "metadata": {},
   "source": [
    "### 处理式子\n",
    "$$\\hat{y}^{(i)} = \\theta_0 + \\theta_1X_1^{(i)} + \\theta_2X_2^{(i)} + ... + \\theta_nX_n^{(i)}$$\n",
    "\n",
    "$$\\theta = (\\theta_0, \\theta_1, \\theta_2,...,\\theta_n)^T$$\n",
    "\n",
    "$$\\hat{y}^{(i)} = \\theta_0X_0^{(i)} + \\theta_1X_1^{(i)} + \\theta_2X_2^{(i)} + ... + \\theta_nX_n^{(i)}, X_0^{(i)}\\equiv1$$\n",
    "\n",
    "$$X^{(i)} = (X_0^{(i)},X_1^{(i)},X_2^{(i)}...,X_n^{(i)})$$\n",
    "\n",
    "$$\\hat{y}^{(i)} = X^{(i)}·\\theta$$\n",
    "\n",
    "$$\\mathbf{X}_b =\n",
    "\\left( \\begin{array}{ccc}\n",
    "1 & X_1^{(1)} & X_2^{(1)} & \\ldots & X_n^{(1)}\\\\\\\\\n",
    "1 & X_1^{(2)} & X_2^{(2)} & \\ldots & X_n^{(2)}\\\\\\\\\n",
    "\\ldots &  &  & & \\ldots \\\\\\\\\n",
    "1 & X_1^{(m)} & X_2^{(m)} & \\ldots & X_n^{(m)}\n",
    "\\end{array} \\right)$$\n",
    "\n",
    "$$\\mathbf{\\theta} =\n",
    "\\left( \\begin{array} {ccc}\n",
    "\\theta_0\\\\\\\\\n",
    "\\theta_1\\\\\\\\\n",
    "\\theta_2\\\\\\\\\n",
    "\\ldots \\\\\\\\\n",
    "\\theta_n\n",
    "\\end{array}\\right)$$\n",
    "\n",
    "**预测化简为**\n",
    "\n",
    "$$\\hat{y} = X_b · \\theta$$\n",
    "\n",
    "<br/>\n",
    "\n",
    "则目标可化简为：使\n",
    "$$(y - X_b·\\theta)^T(y - X_b·\\theta)$$\n",
    "尽可能小\n",
    "\n",
    "可推导出\n",
    "$$\\theta = (X_b^TX_b)^{-1}X_b^Ty$$\n",
    "即，多元线性回归的正规方程解（Normal Equation）\n",
    "\n",
    "<br/>\n",
    "\n",
    "问题：时间复杂度高：O(n^3)（优化O(n^2.4)）\n",
    "\n",
    "优点： 不需要对数据做归一化处理"
   ]
  },
  {
   "cell_type": "markdown",
   "metadata": {},
   "source": [
    "### 实现多元线性回归模型"
   ]
  },
  {
   "cell_type": "code",
   "execution_count": null,
   "metadata": {},
   "outputs": [],
   "source": [
    "import numpy as np\n",
    "from sklearn import datasets"
   ]
  },
  {
   "cell_type": "code",
   "execution_count": null,
   "metadata": {},
   "outputs": [],
   "source": [
    "boston = datasets.load_boston()\n",
    "\n",
    "X = boston.data\n",
    "y = boston.target\n",
    "\n",
    "X = X[y < 50]\n",
    "y = y[y < 50]"
   ]
  },
  {
   "cell_type": "code",
   "execution_count": null,
   "metadata": {},
   "outputs": [],
   "source": [
    "%run ../util/model_selection.py\n",
    "\n",
    "X_train, X_test, y_train, y_test = train_test_split(X, y, seed=666)"
   ]
  },
  {
   "cell_type": "code",
   "execution_count": null,
   "metadata": {},
   "outputs": [],
   "source": [
    "%run LinearRegression.py\n",
    "reg = LinearRegression()\n",
    "reg.fit_normal(X_train, y_train)"
   ]
  },
  {
   "cell_type": "code",
   "execution_count": null,
   "metadata": {},
   "outputs": [],
   "source": [
    "reg.coef_"
   ]
  },
  {
   "cell_type": "code",
   "execution_count": null,
   "metadata": {},
   "outputs": [],
   "source": [
    "reg.interception_"
   ]
  },
  {
   "cell_type": "code",
   "execution_count": null,
   "metadata": {},
   "outputs": [],
   "source": [
    "reg.score(X_test, y_test)"
   ]
  },
  {
   "cell_type": "code",
   "execution_count": null,
   "metadata": {},
   "outputs": [],
   "source": []
  }
 ],
 "metadata": {
  "kernelspec": {
   "display_name": "Python 3",
   "language": "python",
   "name": "python3"
  },
  "language_info": {
   "codemirror_mode": {
    "name": "ipython",
    "version": 3
   },
   "file_extension": ".py",
   "mimetype": "text/x-python",
   "name": "python",
   "nbconvert_exporter": "python",
   "pygments_lexer": "ipython3",
   "version": "3.6.5"
  }
 },
 "nbformat": 4,
 "nbformat_minor": 2
}
