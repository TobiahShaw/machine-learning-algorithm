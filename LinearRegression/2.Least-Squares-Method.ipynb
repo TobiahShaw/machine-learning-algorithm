{
 "cells": [
  {
   "cell_type": "markdown",
   "metadata": {},
   "source": [
    "# 最小二乘法\n",
    "\n",
    "目标：找到a和b，使得\n",
    "$$\\sum_{i=1}^{m}{(y^{(i)} - a{\\hat{x}}^{(i)} - b)}^{2}$$\n",
    "尽可能小"
   ]
  },
  {
   "cell_type": "markdown",
   "metadata": {},
   "source": [
    "设\n",
    "$$J(a, b) = \\sum_{i=1}^{m}{(y^{(i)} - a{\\hat{x}}^{(i)} - b)}^{2}$$\n",
    "J(a, b)分别对a， b求偏导，即：\n",
    "$$\\frac{\\partial{J(a, b)}}{\\partial{a}} = 0$$\n",
    "$$\\frac{\\partial{J(a, b)}}{\\partial{b}} = 0$$"
   ]
  },
  {
   "cell_type": "markdown",
   "metadata": {},
   "source": [
    "对b求导：\n",
    "$$\\frac{\\partial{J(a, b)}}{\\partial{b}} = \\sum_{i=1}^{m} 2(y^{(i)} - ax^{(i)} - b)(-1) = 0$$\n",
    "\n",
    "$$\\sum_{i=1}^{m} (y^{(i)} - ax^{(i)} - b) = 0$$\n",
    "\n",
    "$$\\sum_{i=1}^{m}y^{(i)} - a\\sum_{i=1}^{m}x^{(i)} - \\sum_{i=1}^{m}b = 0$$\n",
    "\n",
    "$$\\sum_{i=1}^{m}y^{(i)} - a\\sum_{i=1}^{m}x^{(i)} - mb = 0$$\n",
    "\n",
    "$$mb = \\sum_{i=1}^{m}y^{(i)} - a\\sum_{i=1}^{m}x^{(i)}$$\n",
    "\n",
    "$$b = \\bar{y} - a\\bar{x}$$"
   ]
  },
  {
   "cell_type": "markdown",
   "metadata": {},
   "source": [
    "对a求导\n",
    "$$\\frac{\\partial{J(a, b)}}{\\partial{a}} = \\sum_{i=1}^{m} 2(y^{(i)} - ax^{(i)} - b)(-x^{(i)}) = 0$$\n",
    "\n",
    "$$\\sum_{i=1}^{m} (y^{(i)} - ax^{(i)} - b) x^{(i)} = 0$$\n",
    "\n",
    "将$$b = \\bar{y} - a\\bar{x}$$带入得到\n",
    "\n",
    "$$\\sum_{i=1}^{m} (y^{(i)} - ax^{(i)} - \\bar{y} + a\\bar{x}) x^{(i)} = 0$$\n",
    "\n",
    "$$\\sum_{i=1}^{m} (x^{(i)}y^{(i)} - a(x^{(i)})^2 - x^{(i)}\\bar{y} + a\\bar{x}x^{(i)}) = 0$$\n",
    "\n",
    "$$\\sum_{i=1}^{m} (x^{(i)}y^{(i)} - x^{(i)}\\bar{y} - a(x^{(i)})^2  + a\\bar{x}x^{(i)}) = 0$$\n",
    "\n",
    "$$\\sum_{i=1}^{m} (x^{(i)}y^{(i)} - x^{(i)}\\bar{y}) - \\sum_{i=1}^{m}(a(x^{(i)})^2 - a\\bar{x}x^{(i)}) = 0$$\n",
    "\n",
    "$$\\sum_{i=1}^{m} (x^{(i)}y^{(i)} - x^{(i)}\\bar{y}) - a\\sum_{i=1}^{m}((x^{(i)})^2 - \\bar{x}x^{(i)}) = 0$$\n",
    "\n",
    "$$a\\sum_{i=1}^{m}((x^{(i)})^2 - \\bar{x}x^{(i)}) = \\sum_{i=1}^{m} (x^{(i)}y^{(i)} - x^{(i)}\\bar{y})$$\n",
    "\n",
    "$$a = \\frac{\\sum_{i=1}^{m} (x^{(i)}y^{(i)} - x^{(i)}\\bar{y})}{\\sum_{i=1}^{m}((x^{(i)})^2 - \\bar{x}x^{(i)})}$$\n",
    "\n",
    "由于\n",
    "$$\\sum_{(i=1)}^m x^{(i)}\\bar{y} = \\bar{y}\\sum_{(i=1)}^m x^{(i)} = m\\bar{y}·\\bar{x} = \\bar{x}\\sum_{(i=1)}^m y^{(i)} = \\sum_{(i=1)}^m \\bar{x}y^{(i)} = \\sum_{(i=1)}^m \\bar{x}\\bar{y}$$\n",
    "得：\n",
    "$$a = \\frac{\\sum_{i=1}^m (x^{(i)}y^{(i)} - x^{(i)}\\bar{y} - \\bar{x}y^{(i)}) + \\bar{x}\\bar{y}}{\\sum_{i=1}^m ((x^{(i)})^2 - \\bar{x}x^{(i)} - \\bar{x}x^{(i)} + {\\bar{x}}^2)}$$\n",
    "\n",
    "$$a = \\frac{\\sum_{i=1}^m(x^{(i)} - \\bar{x})(y^{(i)} - \\bar{y})}{\\sum_{i=1}^m(x^{(i)} - \\bar{x})^2}$$"
   ]
  },
  {
   "cell_type": "markdown",
   "metadata": {},
   "source": [
    "结果：\n",
    "$$a = \\frac{\\sum_{i=1}^m(x^{(i)} - \\bar{x})(y^{(i)} - \\bar{y})}{\\sum_{i=1}^m(x^{(i)} - \\bar{x})^2}$$\n",
    "\n",
    "$$b = \\bar{y} - a\\bar{x}$$"
   ]
  },
  {
   "cell_type": "code",
   "execution_count": null,
   "metadata": {},
   "outputs": [],
   "source": []
  }
 ],
 "metadata": {
  "kernelspec": {
   "display_name": "Python 3",
   "language": "python",
   "name": "python3"
  },
  "language_info": {
   "codemirror_mode": {
    "name": "ipython",
    "version": 3
   },
   "file_extension": ".py",
   "mimetype": "text/x-python",
   "name": "python",
   "nbconvert_exporter": "python",
   "pygments_lexer": "ipython3",
   "version": "3.6.5"
  }
 },
 "nbformat": 4,
 "nbformat_minor": 2
}
