{
 "cells": [
  {
   "cell_type": "markdown",
   "metadata": {},
   "source": [
    "# 评价回归算法 R Squared"
   ]
  },
  {
   "cell_type": "markdown",
   "metadata": {},
   "source": [
    "$$RMSE = \\sqrt{\\frac{1}{m}\\sum_{i=0}^m(y_{test}^{(i)} - \\hat{y}_{test}^{(i)})^2}$$\n",
    "\n",
    "$$MAE = \\frac{1}{m}\\sum_{i=0}^m|y_{test}^{(i)} - \\hat{y}_{test}^{(i)}|$$\n",
    "\n",
    "问题：分类准确度问题（1最好， 0最差）\n",
    "\n",
    "### 引入R Squared\n",
    "\n",
    "$$R^2 = 1 - \\frac{SS_{residual}}{SS_{total}}\\qquad \\frac{(Residual\\,Sum\\,of\\,Squares)} {(Total\\,Sum\\,of\\,Squares)}$$\n",
    "\n",
    "$$R^2 = 1-\\frac{\\sum_i(\\hat{y}^{(i)} - y^{(i)})^2}{\\sum_i(\\bar{y}^{(i)} - y^{(i)})^2} = 1 - \\frac{(\\sum_{i=0}^m(y^{(i)} - \\hat{y}^{(i)})^2) / m}{(\\sum_{i=0}^m(y^{(i)} - \\bar{y}^{(i)})^2) / m} = 1 - \\frac{MSE(\\hat{y},y)}{Var(y)}$$\n",
    "\n",
    "Var(y) 代表方差\n",
    "\n",
    "公式上部分可以看做使用我们模型产生的错误\n",
    "\n",
    "公式下部分可以看做不考虑x使用平均值作为预测结果产生的错误（Baseline model）\n",
    "\n",
    "- R Squared <= 1\n",
    "- R Squared 越大越好。当我们模型不犯错误，则得到最大值1\n",
    "- 当我们模型等于基准模型（Baseline model）时， R Squared = 0\n",
    "- 如果 R Squared < 0 ，说明我们的模型还不如基准模型。此时，很可能我们的数据不具备任何线性关系"
   ]
  },
  {
   "cell_type": "markdown",
   "metadata": {},
   "source": [
    "### R Square 计算"
   ]
  },
  {
   "cell_type": "code",
   "execution_count": 1,
   "metadata": {},
   "outputs": [],
   "source": [
    "import numpy as np\n",
    "from sklearn import datasets\n",
    "from sklearn.metrics import mean_squared_error, mean_absolute_error\n",
    "%run SimpleLinearRegression.py\n",
    "%run ../util/model_selection.py"
   ]
  },
  {
   "cell_type": "code",
   "execution_count": 2,
   "metadata": {},
   "outputs": [],
   "source": [
    "boston = datasets.load_boston()\n",
    "x = boston.data[:,5]\n",
    "y = boston.target\n",
    "x = x[y < 50]\n",
    "y = y[y < 50]\n",
    "x_train, x_test, y_train, y_test = train_test_split(x, y, seed=666)"
   ]
  },
  {
   "cell_type": "code",
   "execution_count": 3,
   "metadata": {},
   "outputs": [],
   "source": [
    "slr = SimpleLinearRegressionV2()\n",
    "slr.fit(x_train, y_train)\n",
    "y_predict = slr.predict(x_test)"
   ]
  },
  {
   "cell_type": "code",
   "execution_count": 4,
   "metadata": {},
   "outputs": [
    {
     "data": {
      "text/plain": [
       "0.6129316803937322"
      ]
     },
     "execution_count": 4,
     "metadata": {},
     "output_type": "execute_result"
    }
   ],
   "source": [
    "r2 = 1 - mean_squared_error(y_test, y_predict) / np.var(y_test)\n",
    "r2"
   ]
  },
  {
   "cell_type": "code",
   "execution_count": 5,
   "metadata": {},
   "outputs": [],
   "source": [
    "%run ../util/metrics.py"
   ]
  },
  {
   "cell_type": "code",
   "execution_count": 6,
   "metadata": {},
   "outputs": [
    {
     "data": {
      "text/plain": [
       "0.6129316803937322"
      ]
     },
     "execution_count": 6,
     "metadata": {},
     "output_type": "execute_result"
    }
   ],
   "source": [
    "r2_score(y_test, y_predict)"
   ]
  },
  {
   "cell_type": "code",
   "execution_count": 7,
   "metadata": {},
   "outputs": [
    {
     "data": {
      "text/plain": [
       "0.6129316803937324"
      ]
     },
     "execution_count": 7,
     "metadata": {},
     "output_type": "execute_result"
    }
   ],
   "source": [
    "from sklearn.metrics import r2_score\n",
    "r2_score(y_test, y_predict)"
   ]
  },
  {
   "cell_type": "code",
   "execution_count": 8,
   "metadata": {},
   "outputs": [
    {
     "data": {
      "text/plain": [
       "0.6129316803937322"
      ]
     },
     "execution_count": 8,
     "metadata": {},
     "output_type": "execute_result"
    }
   ],
   "source": [
    "slr.score(x_test, y_test)"
   ]
  },
  {
   "cell_type": "code",
   "execution_count": null,
   "metadata": {},
   "outputs": [],
   "source": []
  }
 ],
 "metadata": {
  "kernelspec": {
   "display_name": "Python 3",
   "language": "python",
   "name": "python3"
  },
  "language_info": {
   "codemirror_mode": {
    "name": "ipython",
    "version": 3
   },
   "file_extension": ".py",
   "mimetype": "text/x-python",
   "name": "python",
   "nbconvert_exporter": "python",
   "pygments_lexer": "ipython3",
   "version": "3.6.5"
  }
 },
 "nbformat": 4,
 "nbformat_minor": 2
}
