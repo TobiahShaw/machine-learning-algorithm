{
 "cells": [
  {
   "cell_type": "markdown",
   "metadata": {},
   "source": [
    "# 线性回归算法\n",
    "\n",
    "- 解决回归问题\n",
    "- 思想简单，实现容易\n",
    "- 是许多强大的非线性模型的基础\n",
    "- 结果具有很好的可解释性\n",
    "- 蕴含机器学习中的很多重要思想"
   ]
  },
  {
   "cell_type": "markdown",
   "metadata": {},
   "source": [
    "## 简单线性回归\n",
    "样本特征只有一个"
   ]
  },
  {
   "cell_type": "markdown",
   "metadata": {},
   "source": [
    "假设我们找到了最佳和的直线方程：\n",
    "$$y = ax + b$$\n",
    "则对于每个样本点$$x^{(i)}$$\n",
    "根据我们的直线方程， 预测值为：\n",
    "$${\\hat{y}}^{(i)} = ax^{(i)} + b$$\n",
    "真值为：$$y^{(i)}$$"
   ]
  },
  {
   "cell_type": "markdown",
   "metadata": {},
   "source": [
    "我们希望预测值和真值的差距尽量小，表达差距:\n",
    "- 如果使用以下方式，可能会出现正负值抵消，不能很好的表达\n",
    "$$y^{(i)} - {\\hat{y}}^{(i)}$$\n",
    "- 使用绝对值在寻找极值比较困难\n",
    "$$|y^{(i)} - {\\hat{y}}^{(i)}|$$\n",
    "- x平方是个很好的函数，可抵消正负号问题，处处可导\n",
    "$${(y^{(i)} - {\\hat{y}}^{(i)})}^{2}$$\n",
    "即\n",
    "$$\\sum_{i=1}^{m}{(y^{(i)} - {\\hat{y}}^{(i)})}^{2}$$"
   ]
  },
  {
   "cell_type": "markdown",
   "metadata": {},
   "source": [
    "### 简单线性回归的目标：\n",
    "找到a和b使得\n",
    "$$\\sum_{i=1}^{m}{(y^{(i)} - {\\hat{y}}^{(i)})}^{2}$$\n",
    "尽可能小\n",
    "\n",
    "由于\n",
    "$${\\hat{y}}^{(i)} = ax^{(i)} + b$$\n",
    "即，\n",
    "$$\\sum_{i=1}^{m}{(y^{(i)} - a{\\hat{x}}^{(i)} - b)}^{2}$$\n",
    "我们称这个函数为 *损失函数（loss function）* 或者度量有效的部分，称为 *效用函数（utility function）*\n",
    "\n",
    "典型的最小二乘法问题：最小化误差的平方\n",
    "$$a = \\frac{\\sum_{i=1}^{m}{(x^{(i)} - \\bar{x})(y^{(i)} - \\bar{y})}}{\\sum_{i=1}^{m}{(x^{(i)} - \\bar{x})^2}}$$\n",
    "\n",
    "$$b = \\bar{y} - a\\bar{x}$$"
   ]
  },
  {
   "cell_type": "markdown",
   "metadata": {},
   "source": [
    "# 一般机器学习算法的基本思路\n",
    "通过分析问题，确定问题的损失函数或者效用函数；\n",
    "\n",
    "通过优化损失函数或者效用函数，获得机器学习模型\n",
    "\n",
    "近乎所有的参数学习算法都是这样的套路"
   ]
  },
  {
   "cell_type": "code",
   "execution_count": null,
   "metadata": {},
   "outputs": [],
   "source": []
  }
 ],
 "metadata": {
  "kernelspec": {
   "display_name": "Python 3",
   "language": "python",
   "name": "python3"
  },
  "language_info": {
   "codemirror_mode": {
    "name": "ipython",
    "version": 3
   },
   "file_extension": ".py",
   "mimetype": "text/x-python",
   "name": "python",
   "nbconvert_exporter": "python",
   "pygments_lexer": "ipython3",
   "version": "3.6.5"
  }
 },
 "nbformat": 4,
 "nbformat_minor": 2
}
