{
 "cells": [
  {
   "cell_type": "markdown",
   "metadata": {},
   "source": [
    "# 数据归一化\n",
    "- 数据的衡量尺度不同，导致数据权重出现偏差\n",
    "- 解决方案：将所有的数据映射到同一尺度"
   ]
  },
  {
   "cell_type": "code",
   "execution_count": 1,
   "metadata": {},
   "outputs": [],
   "source": [
    "import numpy as np\n",
    "import matplotlib.pyplot as plt"
   ]
  },
  {
   "cell_type": "markdown",
   "metadata": {},
   "source": [
    "## 最值归一化（normalization）\n",
    "把所有数据映射到0-1之间"
   ]
  },
  {
   "cell_type": "markdown",
   "metadata": {},
   "source": [
    "$$x_{scale} = \\frac{x - x_{min}}{x_{max} - x_{min}}$$\n",
    "\n",
    "适用于分布有明显边界的情况；受outlier影响比较大"
   ]
  },
  {
   "cell_type": "code",
   "execution_count": 2,
   "metadata": {},
   "outputs": [
    {
     "data": {
      "text/plain": [
       "array([71,  4, 78, 79, 48, 54, 54,  1, 70, 23, 33, 97,  0, 67, 47, 64, 92,\n",
       "       35,  1, 50,  5, 64, 51, 19,  6, 39, 95, 87, 40, 72, 71, 11, 81, 25,\n",
       "       82, 27,  2, 91, 24, 19, 50, 94, 85, 23,  5, 15, 54, 86, 28, 95, 65,\n",
       "       68,  2, 69, 42, 42, 30, 74, 87,  0, 55, 89, 85, 96, 24, 94, 33, 16,\n",
       "       71, 29, 19,  1, 39, 71, 72, 25, 20, 38, 13, 22, 93, 37, 43, 46, 14,\n",
       "       28, 80, 22,  6,  3, 92, 57, 30, 45, 36, 87, 70, 13, 79, 51])"
      ]
     },
     "execution_count": 2,
     "metadata": {},
     "output_type": "execute_result"
    }
   ],
   "source": [
    "x = np.random.randint(0, 100, size=100)\n",
    "x"
   ]
  },
  {
   "cell_type": "code",
   "execution_count": 28,
   "metadata": {},
   "outputs": [
    {
     "data": {
      "text/plain": [
       "array([0.73195876, 0.04123711, 0.80412371, 0.81443299, 0.49484536,\n",
       "       0.55670103, 0.55670103, 0.01030928, 0.72164948, 0.2371134 ,\n",
       "       0.34020619, 1.        , 0.        , 0.69072165, 0.48453608,\n",
       "       0.65979381, 0.94845361, 0.36082474, 0.01030928, 0.51546392,\n",
       "       0.05154639, 0.65979381, 0.5257732 , 0.19587629, 0.06185567,\n",
       "       0.40206186, 0.97938144, 0.89690722, 0.41237113, 0.74226804,\n",
       "       0.73195876, 0.11340206, 0.83505155, 0.25773196, 0.84536082,\n",
       "       0.27835052, 0.02061856, 0.93814433, 0.24742268, 0.19587629,\n",
       "       0.51546392, 0.96907216, 0.87628866, 0.2371134 , 0.05154639,\n",
       "       0.15463918, 0.55670103, 0.88659794, 0.28865979, 0.97938144,\n",
       "       0.67010309, 0.70103093, 0.02061856, 0.71134021, 0.43298969,\n",
       "       0.43298969, 0.30927835, 0.7628866 , 0.89690722, 0.        ,\n",
       "       0.56701031, 0.91752577, 0.87628866, 0.98969072, 0.24742268,\n",
       "       0.96907216, 0.34020619, 0.16494845, 0.73195876, 0.29896907,\n",
       "       0.19587629, 0.01030928, 0.40206186, 0.73195876, 0.74226804,\n",
       "       0.25773196, 0.20618557, 0.39175258, 0.13402062, 0.22680412,\n",
       "       0.95876289, 0.3814433 , 0.44329897, 0.4742268 , 0.1443299 ,\n",
       "       0.28865979, 0.82474227, 0.22680412, 0.06185567, 0.03092784,\n",
       "       0.94845361, 0.58762887, 0.30927835, 0.46391753, 0.37113402,\n",
       "       0.89690722, 0.72164948, 0.13402062, 0.81443299, 0.5257732 ])"
      ]
     },
     "execution_count": 28,
     "metadata": {},
     "output_type": "execute_result"
    }
   ],
   "source": [
    "(x - np.min(x)) / (np.max(x) - np.min(x))"
   ]
  },
  {
   "cell_type": "code",
   "execution_count": 29,
   "metadata": {},
   "outputs": [
    {
     "data": {
      "text/plain": [
       "array([[60., 46.],\n",
       "       [10., 36.],\n",
       "       [71., 86.],\n",
       "       [15., 89.],\n",
       "       [25., 99.],\n",
       "       [78., 85.],\n",
       "       [49., 34.],\n",
       "       [64.,  2.],\n",
       "       [63., 83.],\n",
       "       [25., 21.]])"
      ]
     },
     "execution_count": 29,
     "metadata": {},
     "output_type": "execute_result"
    }
   ],
   "source": [
    "X = np.random.randint(0, 100, size=(50, 2))\n",
    "X = np.array(X, dtype=np.float)\n",
    "X[:10,:]"
   ]
  },
  {
   "cell_type": "code",
   "execution_count": 30,
   "metadata": {},
   "outputs": [
    {
     "data": {
      "text/plain": [
       "array([[0.60606061, 0.45360825],\n",
       "       [0.1010101 , 0.35051546],\n",
       "       [0.71717172, 0.86597938],\n",
       "       [0.15151515, 0.89690722],\n",
       "       [0.25252525, 1.        ],\n",
       "       [0.78787879, 0.8556701 ],\n",
       "       [0.49494949, 0.32989691],\n",
       "       [0.64646465, 0.        ],\n",
       "       [0.63636364, 0.83505155],\n",
       "       [0.25252525, 0.19587629]])"
      ]
     },
     "execution_count": 30,
     "metadata": {},
     "output_type": "execute_result"
    }
   ],
   "source": [
    "X[:,0] = (X[:,0] - np.min(X[:,0])) / (np.max(X[:,0]) - np.min(X[:,0]))\n",
    "X[:,1] = (X[:,1] - np.min(X[:,1])) / (np.max(X[:,1]) - np.min(X[:,1]))\n",
    "X[:10,:]"
   ]
  },
  {
   "cell_type": "code",
   "execution_count": 31,
   "metadata": {},
   "outputs": [
    {
     "data": {
      "image/png": "[encoded data removed]",
      "text/plain": [
       "<Figure size 432x288 with 1 Axes>"
      ]
     },
     "metadata": {},
     "output_type": "display_data"
    }
   ],
   "source": [
    "plt.scatter(X[:,0], X[:,1])\n",
    "plt.show()"
   ]
  },
  {
   "cell_type": "code",
   "execution_count": 32,
   "metadata": {},
   "outputs": [
    {
     "data": {
      "text/plain": [
       "0.5004040404040403"
      ]
     },
     "execution_count": 32,
     "metadata": {},
     "output_type": "execute_result"
    }
   ],
   "source": [
    "np.mean(X[:,0])"
   ]
  },
  {
   "cell_type": "code",
   "execution_count": 33,
   "metadata": {},
   "outputs": [
    {
     "data": {
      "text/plain": [
       "0.2890669084899204"
      ]
     },
     "execution_count": 33,
     "metadata": {},
     "output_type": "execute_result"
    }
   ],
   "source": [
    "np.std(X[:,0])"
   ]
  },
  {
   "cell_type": "code",
   "execution_count": 34,
   "metadata": {},
   "outputs": [
    {
     "data": {
      "text/plain": [
       "0.48144329896907206"
      ]
     },
     "execution_count": 34,
     "metadata": {},
     "output_type": "execute_result"
    }
   ],
   "source": [
    "np.mean(X[:,1])"
   ]
  },
  {
   "cell_type": "code",
   "execution_count": 35,
   "metadata": {},
   "outputs": [
    {
     "data": {
      "text/plain": [
       "0.33648859151253413"
      ]
     },
     "execution_count": 35,
     "metadata": {},
     "output_type": "execute_result"
    }
   ],
   "source": [
    "np.std(X[:,1])"
   ]
  },
  {
   "cell_type": "markdown",
   "metadata": {},
   "source": [
    "## 均值方差归一化（standardization）\n",
    "把所有数据归一到均值为0方差为1的分布中\n",
    "$$x_{scale} = \\frac{x - x_{mean}}{S}$$\n",
    "适用于数据分布没有明显的边界，可能存在几段数据值"
   ]
  },
  {
   "cell_type": "code",
   "execution_count": null,
   "metadata": {},
   "outputs": [],
   "source": []
  }
 ],
 "metadata": {
  "kernelspec": {
   "display_name": "Python 3",
   "language": "python",
   "name": "python3"
  },
  "language_info": {
   "codemirror_mode": {
    "name": "ipython",
    "version": 3
   },
   "file_extension": ".py",
   "mimetype": "text/x-python",
   "name": "python",
   "nbconvert_exporter": "python",
   "pygments_lexer": "ipython3",
   "version": "3.6.5"
  }
 },
 "nbformat": 4,
 "nbformat_minor": 2
}
