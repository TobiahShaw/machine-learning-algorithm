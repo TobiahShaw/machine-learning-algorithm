{
 "cells": [
  {
   "cell_type": "markdown",
   "metadata": {},
   "source": [
    "# 数据归一化\n",
    "- 数据的衡量尺度不同，导致数据权重出现偏差\n",
    "- 解决方案：将所有的数据映射到同一尺度"
   ]
  },
  {
   "cell_type": "code",
   "execution_count": 1,
   "metadata": {},
   "outputs": [],
   "source": [
    "import numpy as np\n",
    "import matplotlib.pyplot as plt"
   ]
  },
  {
   "cell_type": "markdown",
   "metadata": {},
   "source": [
    "## 最值归一化（normalization）\n",
    "把所有数据映射到0-1之间"
   ]
  },
  {
   "cell_type": "markdown",
   "metadata": {},
   "source": [
    "$$x_{scale} = \\frac{x - x_{min}}{x_{max} - x_{min}}$$\n",
    "\n",
    "适用于分布有明显边界的情况；受outlier影响比较大"
   ]
  },
  {
   "cell_type": "code",
   "execution_count": 2,
   "metadata": {},
   "outputs": [
    {
     "data": {
      "text/plain": [
       "array([38, 14, 13, 62, 95, 82, 95,  1,  2, 17, 99, 91, 75, 55, 13, 70, 84,\n",
       "       95, 68, 85, 12,  2, 53, 97, 29, 66, 22, 68, 89, 29, 22,  1, 17, 40,\n",
       "       93, 58, 38, 62, 30, 89, 21, 34,  0, 13, 66, 13,  7, 90, 31, 67,  0,\n",
       "        2, 28, 12, 44, 86, 77, 34, 34,  1, 64, 70, 99, 56, 96, 26, 49, 52,\n",
       "       41, 57, 91, 34, 29, 96,  3, 30, 45, 49,  3, 22, 46, 81, 78,  7, 81,\n",
       "       67, 81, 64,  0, 52, 89, 14, 85, 98, 24, 17, 56, 28, 31, 11])"
      ]
     },
     "execution_count": 2,
     "metadata": {},
     "output_type": "execute_result"
    }
   ],
   "source": [
    "x = np.random.randint(0, 100, size=100)\n",
    "x"
   ]
  },
  {
   "cell_type": "code",
   "execution_count": 3,
   "metadata": {},
   "outputs": [
    {
     "data": {
      "text/plain": [
       "array([0.38383838, 0.14141414, 0.13131313, 0.62626263, 0.95959596,\n",
       "       0.82828283, 0.95959596, 0.01010101, 0.02020202, 0.17171717,\n",
       "       1.        , 0.91919192, 0.75757576, 0.55555556, 0.13131313,\n",
       "       0.70707071, 0.84848485, 0.95959596, 0.68686869, 0.85858586,\n",
       "       0.12121212, 0.02020202, 0.53535354, 0.97979798, 0.29292929,\n",
       "       0.66666667, 0.22222222, 0.68686869, 0.8989899 , 0.29292929,\n",
       "       0.22222222, 0.01010101, 0.17171717, 0.4040404 , 0.93939394,\n",
       "       0.58585859, 0.38383838, 0.62626263, 0.3030303 , 0.8989899 ,\n",
       "       0.21212121, 0.34343434, 0.        , 0.13131313, 0.66666667,\n",
       "       0.13131313, 0.07070707, 0.90909091, 0.31313131, 0.67676768,\n",
       "       0.        , 0.02020202, 0.28282828, 0.12121212, 0.44444444,\n",
       "       0.86868687, 0.77777778, 0.34343434, 0.34343434, 0.01010101,\n",
       "       0.64646465, 0.70707071, 1.        , 0.56565657, 0.96969697,\n",
       "       0.26262626, 0.49494949, 0.52525253, 0.41414141, 0.57575758,\n",
       "       0.91919192, 0.34343434, 0.29292929, 0.96969697, 0.03030303,\n",
       "       0.3030303 , 0.45454545, 0.49494949, 0.03030303, 0.22222222,\n",
       "       0.46464646, 0.81818182, 0.78787879, 0.07070707, 0.81818182,\n",
       "       0.67676768, 0.81818182, 0.64646465, 0.        , 0.52525253,\n",
       "       0.8989899 , 0.14141414, 0.85858586, 0.98989899, 0.24242424,\n",
       "       0.17171717, 0.56565657, 0.28282828, 0.31313131, 0.11111111])"
      ]
     },
     "execution_count": 3,
     "metadata": {},
     "output_type": "execute_result"
    }
   ],
   "source": [
    "(x - np.min(x)) / (np.max(x) - np.min(x))"
   ]
  },
  {
   "cell_type": "code",
   "execution_count": 4,
   "metadata": {},
   "outputs": [
    {
     "data": {
      "text/plain": [
       "array([[57., 47.],\n",
       "       [33., 88.],\n",
       "       [96., 58.],\n",
       "       [91., 85.],\n",
       "       [66.,  2.],\n",
       "       [61., 74.],\n",
       "       [70., 33.],\n",
       "       [83., 83.],\n",
       "       [ 6., 77.],\n",
       "       [92., 80.]])"
      ]
     },
     "execution_count": 4,
     "metadata": {},
     "output_type": "execute_result"
    }
   ],
   "source": [
    "X = np.random.randint(0, 100, size=(50, 2))\n",
    "X = np.array(X, dtype=np.float)\n",
    "X[:10,:]"
   ]
  },
  {
   "cell_type": "code",
   "execution_count": 5,
   "metadata": {},
   "outputs": [
    {
     "data": {
      "text/plain": [
       "array([[0.58947368, 0.47368421],\n",
       "       [0.33684211, 0.90526316],\n",
       "       [1.        , 0.58947368],\n",
       "       [0.94736842, 0.87368421],\n",
       "       [0.68421053, 0.        ],\n",
       "       [0.63157895, 0.75789474],\n",
       "       [0.72631579, 0.32631579],\n",
       "       [0.86315789, 0.85263158],\n",
       "       [0.05263158, 0.78947368],\n",
       "       [0.95789474, 0.82105263]])"
      ]
     },
     "execution_count": 5,
     "metadata": {},
     "output_type": "execute_result"
    }
   ],
   "source": [
    "X[:,0] = (X[:,0] - np.min(X[:,0])) / (np.max(X[:,0]) - np.min(X[:,0]))\n",
    "X[:,1] = (X[:,1] - np.min(X[:,1])) / (np.max(X[:,1]) - np.min(X[:,1]))\n",
    "X[:10,:]"
   ]
  },
  {
   "cell_type": "code",
   "execution_count": 6,
   "metadata": {},
   "outputs": [
    {
     "data": {
      "image/png": "[encoded data removed]",
      "text/plain": [
       "<Figure size 432x288 with 1 Axes>"
      ]
     },
     "metadata": {},
     "output_type": "display_data"
    }
   ],
   "source": [
    "plt.scatter(X[:,0], X[:,1])\n",
    "plt.show()"
   ]
  },
  {
   "cell_type": "code",
   "execution_count": 7,
   "metadata": {},
   "outputs": [
    {
     "data": {
      "text/plain": [
       "0.5265263157894737"
      ]
     },
     "execution_count": 7,
     "metadata": {},
     "output_type": "execute_result"
    }
   ],
   "source": [
    "np.mean(X[:,0])"
   ]
  },
  {
   "cell_type": "code",
   "execution_count": 8,
   "metadata": {},
   "outputs": [
    {
     "data": {
      "text/plain": [
       "0.2965096309040173"
      ]
     },
     "execution_count": 8,
     "metadata": {},
     "output_type": "execute_result"
    }
   ],
   "source": [
    "np.std(X[:,0])"
   ]
  },
  {
   "cell_type": "code",
   "execution_count": 9,
   "metadata": {},
   "outputs": [
    {
     "data": {
      "text/plain": [
       "0.5675789473684211"
      ]
     },
     "execution_count": 9,
     "metadata": {},
     "output_type": "execute_result"
    }
   ],
   "source": [
    "np.mean(X[:,1])"
   ]
  },
  {
   "cell_type": "code",
   "execution_count": 10,
   "metadata": {},
   "outputs": [
    {
     "data": {
      "text/plain": [
       "0.3118124303002539"
      ]
     },
     "execution_count": 10,
     "metadata": {},
     "output_type": "execute_result"
    }
   ],
   "source": [
    "np.std(X[:,1])"
   ]
  },
  {
   "cell_type": "markdown",
   "metadata": {},
   "source": [
    "## 均值方差归一化（standardization）\n",
    "把所有数据归一到均值为0方差为1的分布中\n",
    "$$x_{scale} = \\frac{x - x_{mean}}{S}$$\n",
    "适用于数据分布没有明显的边界，可能存在几段数据值"
   ]
  },
  {
   "cell_type": "code",
   "execution_count": 11,
   "metadata": {},
   "outputs": [],
   "source": [
    "X2 = X = np.random.randint(0, 100, size=(50, 2))"
   ]
  },
  {
   "cell_type": "code",
   "execution_count": 12,
   "metadata": {},
   "outputs": [],
   "source": [
    "X2 = np.array(X2, dtype=float)"
   ]
  },
  {
   "cell_type": "code",
   "execution_count": 13,
   "metadata": {},
   "outputs": [
    {
     "data": {
      "image/png": "[encoded data removed]",
      "text/plain": [
       "<Figure size 432x288 with 1 Axes>"
      ]
     },
     "metadata": {},
     "output_type": "display_data"
    }
   ],
   "source": [
    "X2[:,0] = (X2[:,0] - np.mean(X2[:,0])) / np.std(X2[:,0])\n",
    "X2[:,1] = (X2[:,1] - np.mean(X2[:,1])) / np.std(X2[:,1])\n",
    "plt.scatter(X2[:,0], X2[:,1])\n",
    "plt.show()"
   ]
  },
  {
   "cell_type": "code",
   "execution_count": 14,
   "metadata": {},
   "outputs": [
    {
     "name": "stdout",
     "output_type": "stream",
     "text": [
      "4.884981308350689e-17\n",
      "0.9999999999999998\n",
      "8.881784197001253e-17\n",
      "1.0\n"
     ]
    }
   ],
   "source": [
    "print(np.mean(X2[:,0]))\n",
    "print(np.std(X2[:,0]))\n",
    "print(np.mean(X2[:,1]))\n",
    "print(np.std(X2[:,1]))"
   ]
  },
  {
   "cell_type": "markdown",
   "metadata": {},
   "source": [
    "### 如何对测试数据集进行归一化"
   ]
  },
  {
   "cell_type": "markdown",
   "metadata": {},
   "source": [
    "- 使用训练集的均值和方差来归一化测试集数据\n",
    "\n",
    "$$x_{test\\_scale} = \\frac{x_{test} - x_{mean\\_train}}{S_{train}}$$\n",
    "\n",
    "**测试数据是模拟真实环境**\n",
    "- 真实环境很有可能无法得到所有测试数据的均值和方差\n",
    "- 对数据的归一化也是算法的一部分\n",
    "\n",
    "**我们需要保存训练数据集得到的均值和方差**"
   ]
  },
  {
   "cell_type": "markdown",
   "metadata": {},
   "source": [
    "### scikit-learn 中使用 Scaler 来归一化"
   ]
  },
  {
   "cell_type": "code",
   "execution_count": 15,
   "metadata": {},
   "outputs": [],
   "source": [
    "from sklearn import datasets"
   ]
  },
  {
   "cell_type": "code",
   "execution_count": 16,
   "metadata": {},
   "outputs": [],
   "source": [
    "iris = datasets.load_iris()"
   ]
  },
  {
   "cell_type": "code",
   "execution_count": 17,
   "metadata": {},
   "outputs": [],
   "source": [
    "X = iris.data\n",
    "y = iris.target"
   ]
  },
  {
   "cell_type": "code",
   "execution_count": 18,
   "metadata": {},
   "outputs": [
    {
     "data": {
      "text/plain": [
       "array([[5.1, 3.5, 1.4, 0.2],\n",
       "       [4.9, 3. , 1.4, 0.2],\n",
       "       [4.7, 3.2, 1.3, 0.2],\n",
       "       [4.6, 3.1, 1.5, 0.2],\n",
       "       [5. , 3.6, 1.4, 0.2],\n",
       "       [5.4, 3.9, 1.7, 0.4],\n",
       "       [4.6, 3.4, 1.4, 0.3],\n",
       "       [5. , 3.4, 1.5, 0.2],\n",
       "       [4.4, 2.9, 1.4, 0.2],\n",
       "       [4.9, 3.1, 1.5, 0.1]])"
      ]
     },
     "execution_count": 18,
     "metadata": {},
     "output_type": "execute_result"
    }
   ],
   "source": [
    "X[:10,:]"
   ]
  },
  {
   "cell_type": "code",
   "execution_count": 19,
   "metadata": {},
   "outputs": [],
   "source": [
    "from sklearn.model_selection import train_test_split\n",
    "\n",
    "X_train, X_test, y_train, y_test = train_test_split(X, y, test_size=0.2, random_state=666)"
   ]
  },
  {
   "cell_type": "markdown",
   "metadata": {},
   "source": [
    "### scikit-learn 中的 StandardScaler"
   ]
  },
  {
   "cell_type": "code",
   "execution_count": 20,
   "metadata": {},
   "outputs": [],
   "source": [
    "from sklearn.preprocessing import StandardScaler"
   ]
  },
  {
   "cell_type": "code",
   "execution_count": 21,
   "metadata": {},
   "outputs": [],
   "source": [
    "stdScaler = StandardScaler()"
   ]
  },
  {
   "cell_type": "code",
   "execution_count": 22,
   "metadata": {},
   "outputs": [
    {
     "data": {
      "text/plain": [
       "StandardScaler(copy=True, with_mean=True, with_std=True)"
      ]
     },
     "execution_count": 22,
     "metadata": {},
     "output_type": "execute_result"
    }
   ],
   "source": [
    "stdScaler.fit(X_train)"
   ]
  },
  {
   "cell_type": "code",
   "execution_count": 23,
   "metadata": {},
   "outputs": [
    {
     "data": {
      "text/plain": [
       "array([5.83416667, 3.0825    , 3.70916667, 1.16916667])"
      ]
     },
     "execution_count": 23,
     "metadata": {},
     "output_type": "execute_result"
    }
   ],
   "source": [
    "stdScaler.mean_"
   ]
  },
  {
   "cell_type": "code",
   "execution_count": 24,
   "metadata": {},
   "outputs": [
    {
     "data": {
      "text/plain": [
       "array([0.81019502, 0.44076874, 1.76295187, 0.75429833])"
      ]
     },
     "execution_count": 24,
     "metadata": {},
     "output_type": "execute_result"
    }
   ],
   "source": [
    "stdScaler.scale_"
   ]
  },
  {
   "cell_type": "code",
   "execution_count": 25,
   "metadata": {},
   "outputs": [],
   "source": [
    "X_train_std = stdScaler.transform(X_train)\n",
    "X_test_std = stdScaler.transform(X_test)"
   ]
  },
  {
   "cell_type": "code",
   "execution_count": 26,
   "metadata": {},
   "outputs": [],
   "source": [
    "from sklearn.neighbors import KNeighborsClassifier"
   ]
  },
  {
   "cell_type": "code",
   "execution_count": 27,
   "metadata": {},
   "outputs": [
    {
     "data": {
      "text/plain": [
       "1.0"
      ]
     },
     "execution_count": 27,
     "metadata": {},
     "output_type": "execute_result"
    }
   ],
   "source": [
    "kNN_clf = KNeighborsClassifier(n_neighbors=3)\n",
    "kNN_clf.fit(X_train_std, y_train)\n",
    "kNN_clf.score(X_test_std, y_test)"
   ]
  },
  {
   "cell_type": "code",
   "execution_count": null,
   "metadata": {},
   "outputs": [],
   "source": []
  }
 ],
 "metadata": {
  "kernelspec": {
   "display_name": "Python 3",
   "language": "python",
   "name": "python3"
  },
  "language_info": {
   "codemirror_mode": {
    "name": "ipython",
    "version": 3
   },
   "file_extension": ".py",
   "mimetype": "text/x-python",
   "name": "python",
   "nbconvert_exporter": "python",
   "pygments_lexer": "ipython3",
   "version": "3.6.5"
  }
 },
 "nbformat": 4,
 "nbformat_minor": 2
}
