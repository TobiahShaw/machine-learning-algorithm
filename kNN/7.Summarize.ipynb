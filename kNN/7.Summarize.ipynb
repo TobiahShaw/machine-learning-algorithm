{
 "cells": [
  {
   "cell_type": "markdown",
   "metadata": {},
   "source": [
    "# 更多有关k近邻算法"
   ]
  },
  {
   "cell_type": "markdown",
   "metadata": {},
   "source": [
    "### 解决分类问题\n",
    "\n",
    "天然可以解决多分类问题\n",
    "\n",
    "思想简单，效果强大"
   ]
  },
  {
   "cell_type": "markdown",
   "metadata": {},
   "source": [
    "### 解决回归问题\n",
    "\n",
    "模型中数据的k个节点，计算平均值或者加权平均值\n",
    "\n",
    "scikit-learn 中使用 KNeighborRegressor"
   ]
  },
  {
   "cell_type": "markdown",
   "metadata": {},
   "source": [
    "### 缺点\n",
    "\n",
    "#### 效率低下\n",
    "\n",
    "如果训练m个样本，n个特征，预测每一个新数据，需要O(m*n),可以使用KD-Tree， Ball-Tree进行优化\n",
    "\n",
    "#### 高度数据相关\n",
    "\n",
    "对outlier更为敏感\n",
    "\n",
    "#### 预测结果不具有可解释性\n",
    "\n",
    "#### 维数灾难\n",
    "\n",
    "随着维度的增加，“看似相近”的两个点之间的距离越来越大\n",
    "\n",
    "维度 | 距离 | 大小\n",
    "--- | --- | ---\n",
    "1维|0到1的距离|1\n",
    "2维|(0,0)到(1,1)的距离|1.414\n",
    "3维|(0,0,0)到(1,1,1)的距离|1.73\n",
    "64维|(0,0,...0)到(1,1,...1)的距离|8\n",
    "10000维|(0,0,...0)到(1,1,...1)的距离|100\n",
    "\n",
    "解决方法：降维"
   ]
  },
  {
   "cell_type": "markdown",
   "metadata": {},
   "source": [
    "### 机器学习流程\n",
    "\n",
    "1. 数据集分割 train test splite\n",
    "2. 归一化\n",
    "3. 使用网格搜索寻找最好的超参数\n",
    "4. 训练模型 fit\n",
    "5. 测试分类准确度"
   ]
  },
  {
   "cell_type": "code",
   "execution_count": null,
   "metadata": {},
   "outputs": [],
   "source": []
  }
 ],
 "metadata": {
  "kernelspec": {
   "display_name": "Python 3",
   "language": "python",
   "name": "python3"
  },
  "language_info": {
   "codemirror_mode": {
    "name": "ipython",
    "version": 3
   },
   "file_extension": ".py",
   "mimetype": "text/x-python",
   "name": "python",
   "nbconvert_exporter": "python",
   "pygments_lexer": "ipython3",
   "version": "3.6.5"
  }
 },
 "nbformat": 4,
 "nbformat_minor": 2
}
