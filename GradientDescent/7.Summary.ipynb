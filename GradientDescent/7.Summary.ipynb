{
 "cells": [
  {
   "cell_type": "markdown",
   "metadata": {},
   "source": [
    "# 关于梯度的调试\n",
    "\n",
    "**有时求解梯度会有困难，我们可以通过近似的方法来求解某点的梯度**\n",
    "\n",
    "![gradient](../img/gradient.jpg)\n",
    "\n",
    "近似的计算导数\n",
    "\n",
    "$$\\frac{dJ}{d\\theta} = \\frac{J(\\theta + \\varepsilon) - J(\\theta + \\varepsilon)}{2\\varepsilon}$$\n",
    "\n",
    "多维近似求梯度\n",
    "\n",
    "$$\\theta = (\\theta_0, \\theta_1, \\theta_2, \\ldots , \\theta_n)$$\n",
    "\n",
    "$$\\frac{\\partial{J}}{\\partial{\\theta}} = (\\frac{\\partial{J}}{\\partial{\\theta_0}}, \\frac{\\partial{J}}{\\partial{\\theta_1}}, \\frac{\\partial{J}}{\\partial{\\theta_2}},\\ldots, \\frac{\\partial{J}}{\\partial{\\theta_n}})$$\n",
    "\n",
    "$$\\theta_0^+ = (\\theta_0 + \\varepsilon, \\theta_1, \\theta_2, \\ldots , \\theta_n)$$\n",
    "\n",
    "$$\\theta_0^- = (\\theta_0 - \\varepsilon, \\theta_1, \\theta_2, \\ldots , \\theta_n)$$\n",
    "\n",
    "$$\\frac{\\partial{J}}{\\partial{\\theta_0}} = \\frac{J(\\theta_0^+) - J(\\theta_0^-)}{2\\varepsilon}$$\n",
    "\n",
    "其他维度同理\n",
    "\n",
    "缺点：时间复杂度比较高"
   ]
  },
  {
   "cell_type": "code",
   "execution_count": null,
   "metadata": {},
   "outputs": [],
   "source": []
  }
 ],
 "metadata": {
  "kernelspec": {
   "display_name": "Python 3",
   "language": "python",
   "name": "python3"
  },
  "language_info": {
   "codemirror_mode": {
    "name": "ipython",
    "version": 3
   },
   "file_extension": ".py",
   "mimetype": "text/x-python",
   "name": "python",
   "nbconvert_exporter": "python",
   "pygments_lexer": "ipython3",
   "version": "3.6.5"
  }
 },
 "nbformat": 4,
 "nbformat_minor": 2
}
