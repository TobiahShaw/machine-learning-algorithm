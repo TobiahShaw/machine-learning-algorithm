{
 "cells": [
  {
   "cell_type": "markdown",
   "metadata": {},
   "source": [
    "# 关于梯度的调试\n",
    "\n",
    "**有时求解梯度会有困难，我们可以通过近似的方法来求解某点的梯度**\n",
    "\n",
    "![gradient](../img/gradient.jpg)\n",
    "\n",
    "近似的计算导数\n",
    "\n",
    "$$\\frac{dJ}{d\\theta} = \\frac{J(\\theta + \\varepsilon) - J(\\theta + \\varepsilon)}{2\\varepsilon}$$\n",
    "\n",
    "多维近似求梯度\n",
    "\n",
    "$$\\theta = (\\theta_0, \\theta_1, \\theta_2, \\ldots , \\theta_n)$$\n",
    "\n",
    "$$\\frac{\\partial{J}}{\\partial{\\theta}} = (\\frac{\\partial{J}}{\\partial{\\theta_0}}, \\frac{\\partial{J}}{\\partial{\\theta_1}}, \\frac{\\partial{J}}{\\partial{\\theta_2}},\\ldots, \\frac{\\partial{J}}{\\partial{\\theta_n}})$$\n",
    "\n",
    "$$\\theta_0^+ = (\\theta_0 + \\varepsilon, \\theta_1, \\theta_2, \\ldots , \\theta_n)$$\n",
    "\n",
    "$$\\theta_0^- = (\\theta_0 - \\varepsilon, \\theta_1, \\theta_2, \\ldots , \\theta_n)$$\n",
    "\n",
    "$$\\frac{\\partial{J}}{\\partial{\\theta_0}} = \\frac{J(\\theta_0^+) - J(\\theta_0^-)}{2\\varepsilon}$$\n",
    "\n",
    "其他维度同理\n",
    "\n",
    "缺点：时间复杂度比较高"
   ]
  },
  {
   "cell_type": "code",
   "execution_count": 1,
   "metadata": {},
   "outputs": [],
   "source": [
    "import numpy as np\n",
    "import matplotlib.pyplot as plt"
   ]
  },
  {
   "cell_type": "code",
   "execution_count": 2,
   "metadata": {},
   "outputs": [],
   "source": [
    "np.random.seed(666)\n",
    "X = np.random.random(size=(1000, 10))"
   ]
  },
  {
   "cell_type": "code",
   "execution_count": 3,
   "metadata": {},
   "outputs": [],
   "source": [
    "true_theta = np.arange(1,12, dtype=float)\n",
    "X_b = np.hstack([np.ones((len(X), 1)), X])\n",
    "y = X_b.dot(true_theta) + np.random.normal(size = 1000)"
   ]
  },
  {
   "cell_type": "code",
   "execution_count": 4,
   "metadata": {},
   "outputs": [
    {
     "data": {
      "text/plain": [
       "(1000, 10)"
      ]
     },
     "execution_count": 4,
     "metadata": {},
     "output_type": "execute_result"
    }
   ],
   "source": [
    "X.shape"
   ]
  },
  {
   "cell_type": "code",
   "execution_count": 5,
   "metadata": {},
   "outputs": [
    {
     "data": {
      "text/plain": [
       "(1000,)"
      ]
     },
     "execution_count": 5,
     "metadata": {},
     "output_type": "execute_result"
    }
   ],
   "source": [
    "y.shape"
   ]
  },
  {
   "cell_type": "code",
   "execution_count": 6,
   "metadata": {},
   "outputs": [
    {
     "data": {
      "text/plain": [
       "array([ 1.,  2.,  3.,  4.,  5.,  6.,  7.,  8.,  9., 10., 11.])"
      ]
     },
     "execution_count": 6,
     "metadata": {},
     "output_type": "execute_result"
    }
   ],
   "source": [
    "true_theta"
   ]
  },
  {
   "cell_type": "code",
   "execution_count": 7,
   "metadata": {},
   "outputs": [],
   "source": [
    "def J(theta, X_b, y):\n",
    "    try:\n",
    "        return np.sum((y - X_b.dot(theta)) ** 2) / len(X_b)\n",
    "    except:\n",
    "        return float('inf')"
   ]
  },
  {
   "cell_type": "code",
   "execution_count": 8,
   "metadata": {},
   "outputs": [],
   "source": [
    "def dJ_math(theta, X_b, y):\n",
    "    return X_b.T.dot(X_b.dot(theta) - y) * 2. / len(y)"
   ]
  },
  {
   "cell_type": "code",
   "execution_count": 9,
   "metadata": {},
   "outputs": [],
   "source": [
    "def dJ_debug(theta, X_b, y, epsilon=0.01):\n",
    "    res = np.empty(len(theta))\n",
    "    for i in range(len(theta)):\n",
    "        theta_1 = theta.copy()\n",
    "        theta_1[i] += epsilon\n",
    "        theta_2 = theta.copy()\n",
    "        theta_2[i] -= epsilon\n",
    "        res[i] = (J(theta_1, X_b, y) - J(theta_2, X_b, y)) / (2 * epsilon)\n",
    "    return res"
   ]
  },
  {
   "cell_type": "code",
   "execution_count": 10,
   "metadata": {},
   "outputs": [],
   "source": [
    "def gradient_descent(dJ, x_b, y, initial_theta, eta, n_iters=10000, epsilon=1e-8):\n",
    "    theta = initial_theta\n",
    "    i_iter = 0\n",
    "    while i_iter < n_iters:\n",
    "        gradient = dJ(theta, x_b, y)\n",
    "        last_theta = theta\n",
    "        theta = theta - eta * gradient\n",
    "        i_iter = i_iter + 1\n",
    "        if(abs(J(theta, x_b, y) - J(last_theta, x_b, y)) < epsilon):\n",
    "            break\n",
    "    return theta"
   ]
  },
  {
   "cell_type": "code",
   "execution_count": 11,
   "metadata": {},
   "outputs": [
    {
     "name": "stdout",
     "output_type": "stream",
     "text": [
      "Wall time: 32 s\n"
     ]
    },
    {
     "data": {
      "text/plain": [
       "array([ 1.1200843 ,  2.05379431,  2.91634229,  4.12015471,  5.05100799,\n",
       "        5.90580603,  6.97494716,  8.00169439,  8.86330612,  9.98697644,\n",
       "       10.90637129])"
      ]
     },
     "execution_count": 11,
     "metadata": {},
     "output_type": "execute_result"
    }
   ],
   "source": [
    "initial_theta = np.ones((X_b.shape[1]))\n",
    "eta = 0.01\n",
    "%time theta = gradient_descent(dJ_debug, X_b, y, initial_theta, eta)\n",
    "theta"
   ]
  },
  {
   "cell_type": "code",
   "execution_count": 12,
   "metadata": {},
   "outputs": [
    {
     "name": "stdout",
     "output_type": "stream",
     "text": [
      "Wall time: 4.44 s\n"
     ]
    },
    {
     "data": {
      "text/plain": [
       "array([ 1.1200843 ,  2.05379431,  2.91634229,  4.12015471,  5.05100799,\n",
       "        5.90580603,  6.97494716,  8.00169439,  8.86330612,  9.98697644,\n",
       "       10.90637129])"
      ]
     },
     "execution_count": 12,
     "metadata": {},
     "output_type": "execute_result"
    }
   ],
   "source": [
    "%time theta = gradient_descent(dJ_math, X_b, y, initial_theta, eta)\n",
    "theta"
   ]
  },
  {
   "cell_type": "code",
   "execution_count": null,
   "metadata": {},
   "outputs": [],
   "source": []
  }
 ],
 "metadata": {
  "kernelspec": {
   "display_name": "Python 3",
   "language": "python",
   "name": "python3"
  },
  "language_info": {
   "codemirror_mode": {
    "name": "ipython",
    "version": 3
   },
   "file_extension": ".py",
   "mimetype": "text/x-python",
   "name": "python",
   "nbconvert_exporter": "python",
   "pygments_lexer": "ipython3",
   "version": "3.6.5"
  }
 },
 "nbformat": 4,
 "nbformat_minor": 2
}
