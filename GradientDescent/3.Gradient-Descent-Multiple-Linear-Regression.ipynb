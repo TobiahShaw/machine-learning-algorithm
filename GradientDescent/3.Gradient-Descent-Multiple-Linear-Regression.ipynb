{
 "cells": [
  {
   "cell_type": "markdown",
   "metadata": {},
   "source": [
    "# 多元线性回归中的梯度下降法\n",
    "\n",
    "其中\n",
    "$$-\\eta\\frac{dJ}{d\\theta}$$\n",
    "应变为\n",
    "$$-\\eta\\nabla J$$\n",
    "其中\n",
    "$$\\nabla J = (\\frac{\\partial J}{\\partial \\theta_0}, \\frac{\\partial J}{\\partial \\theta_1}, ... ,\\frac{\\partial J}{\\partial \\theta_n})$$\n",
    "梯度代表方向，对应J增大最快的方向"
   ]
  },
  {
   "cell_type": "code",
   "execution_count": null,
   "metadata": {},
   "outputs": [],
   "source": []
  }
 ],
 "metadata": {
  "kernelspec": {
   "display_name": "Python 3",
   "language": "python",
   "name": "python3"
  },
  "language_info": {
   "codemirror_mode": {
    "name": "ipython",
    "version": 3
   },
   "file_extension": ".py",
   "mimetype": "text/x-python",
   "name": "python",
   "nbconvert_exporter": "python",
   "pygments_lexer": "ipython3",
   "version": "3.6.5"
  }
 },
 "nbformat": 4,
 "nbformat_minor": 2
}
