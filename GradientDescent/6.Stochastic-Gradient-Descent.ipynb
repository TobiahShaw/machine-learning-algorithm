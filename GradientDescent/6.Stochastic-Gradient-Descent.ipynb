{
 "cells": [
  {
   "attachments": {},
   "cell_type": "markdown",
   "metadata": {},
   "source": [
    "### 批量梯度下降法（Batch Gradient Descent）\n",
    "\n",
    "对样本中的所有数据进行计算\n",
    "\n",
    "样本量很大时很耗时\n",
    "### 随机梯度下降法（Stochastic Gradient Descent）\n",
    "\n",
    "- 抽出一部分样本进行，此时得到的并不是损失函数的梯度，但也代表了一个方向\n",
    "\n",
    "$$2\\cdot \\begin{pmatrix}\n",
    "(X_b^{(i)}\\theta - y^{(i)}) \\cdot X^{(i)}_0 \\\\\\\\\n",
    "(X_b^{(i)}\\theta - y^{(i)}) \\cdot X^{(i)}_1 \\\\\\\\\n",
    "(X_b^{(i)}\\theta - y^{(i)}) \\cdot X^{(i)}_2 \\\\\\\\\n",
    "\\ldots \\\\\\\\\n",
    "(X_b^{(i)}\\theta - y^{(i)}) \\cdot X^{(i)}_n\n",
    "\\end{pmatrix} = \n",
    "2 \\cdot (X_b^{(i)})^T \\cdot (X_b^{(i)}\\theta - y^{(i)})$$\n",
    "\n",
    "- 学习率η应该递减\n",
    "\n",
    "$$\\eta = \\frac{a}{i\\_iters + b}$$\n",
    "\n",
    "这是一种模拟退火的思想，其中a和b是随机梯度下降法的超参数\n",
    "\n",
    "- 过程\n",
    "\n",
    "![随机梯度下降法](..\\img\\FEF5319D-E8B8-42ec-B385-F7924051C439.png)"
   ]
  },
  {
   "cell_type": "markdown",
   "metadata": {},
   "source": [
    "### 使用梯度下降法和随机梯度下降法对比"
   ]
  },
  {
   "cell_type": "markdown",
   "metadata": {},
   "source": [
    "#### 梯度下降"
   ]
  },
  {
   "cell_type": "code",
   "execution_count": 1,
   "metadata": {},
   "outputs": [],
   "source": [
    "import numpy as np\n",
    "import matplotlib.pyplot as plt"
   ]
  },
  {
   "cell_type": "code",
   "execution_count": 2,
   "metadata": {},
   "outputs": [],
   "source": [
    "m = 100000\n",
    "\n",
    "x = np.random.normal(size=m)\n",
    "X = x.reshape(-1,1)\n",
    "y = 4. * x + 3. + np.random.normal(0, 3, size=m)"
   ]
  },
  {
   "cell_type": "code",
   "execution_count": 3,
   "metadata": {},
   "outputs": [],
   "source": [
    "def J(theta, x_b, y):\n",
    "    try:\n",
    "        return np.sum((y - x_b.dot(theta)) ** 2) / len(y)\n",
    "    except:\n",
    "        return float('inf')\n",
    "\n",
    "def dJ(theta, x_b, y):\n",
    "    return x_b.T.dot(x_b.dot(theta) - y) * 2. / len(y)\n",
    "\n",
    "def gradient_descent(x_b, y, initial_theta, eta, n_iters=10000, epsilon=1e-8):\n",
    "    theta = initial_theta\n",
    "    i_iter = 0\n",
    "    while i_iter < n_iters:\n",
    "        gradient = dJ(theta, x_b, y)\n",
    "        last_theta = theta\n",
    "        theta = theta - eta * gradient\n",
    "        i_iter = i_iter + 1\n",
    "        if(abs(J(theta, x_b, y) - J(last_theta, x_b, y)) < epsilon):\n",
    "            break\n",
    "    return theta"
   ]
  },
  {
   "cell_type": "code",
   "execution_count": 4,
   "metadata": {},
   "outputs": [
    {
     "name": "stdout",
     "output_type": "stream",
     "text": [
      "Wall time: 615 ms\n"
     ]
    }
   ],
   "source": [
    "%%time\n",
    "X_b = np.hstack([np.ones((len(x),1)), X])\n",
    "initial_theta = np.zeros(X_b.shape[1])\n",
    "eta = 0.01\n",
    "theta = gradient_descent(X_b, y, initial_theta, eta)"
   ]
  },
  {
   "cell_type": "code",
   "execution_count": 5,
   "metadata": {},
   "outputs": [
    {
     "data": {
      "text/plain": [
       "array([2.99507793, 3.9981764 ])"
      ]
     },
     "execution_count": 5,
     "metadata": {},
     "output_type": "execute_result"
    }
   ],
   "source": [
    "theta"
   ]
  },
  {
   "cell_type": "markdown",
   "metadata": {},
   "source": [
    "#### 随机梯度下降"
   ]
  },
  {
   "cell_type": "code",
   "execution_count": 6,
   "metadata": {},
   "outputs": [],
   "source": [
    "def dJ_sgd(theta, x_b_i, y_i):\n",
    "    return x_b_i.T.dot(x_b_i.dot(theta) - y_i) * 2."
   ]
  },
  {
   "cell_type": "code",
   "execution_count": 7,
   "metadata": {},
   "outputs": [],
   "source": [
    "def sgd(x_b, y, initial_theta, n_iters=10000):\n",
    "    t0 = 5\n",
    "    t1 = 50\n",
    "    def learn_rate(t):\n",
    "        return t0 / (t + t1)\n",
    "    theta = initial_theta\n",
    "    \n",
    "    for cur_iters in range(n_iters):\n",
    "        rand_i = np.random.randint(len(x_b))\n",
    "        gradient = dJ_sgd(theta, x_b[rand_i], y[rand_i])\n",
    "        theta = theta - learn_rate(cur_iters) * gradient\n",
    "        \n",
    "    return theta"
   ]
  },
  {
   "cell_type": "code",
   "execution_count": 8,
   "metadata": {},
   "outputs": [
    {
     "name": "stdout",
     "output_type": "stream",
     "text": [
      "Wall time: 248 ms\n"
     ]
    }
   ],
   "source": [
    "%%time\n",
    "X_b = np.hstack([np.ones((len(x),1)), X])\n",
    "initial_theta = np.zeros(X_b.shape[1])\n",
    "eta = 0.01\n",
    "theta = sgd(X_b, y, initial_theta, n_iters=len(X_b) // 3)"
   ]
  },
  {
   "cell_type": "code",
   "execution_count": 9,
   "metadata": {},
   "outputs": [
    {
     "data": {
      "text/plain": [
       "array([3.00065576, 4.01802475])"
      ]
     },
     "execution_count": 9,
     "metadata": {},
     "output_type": "execute_result"
    }
   ],
   "source": [
    "theta"
   ]
  },
  {
   "cell_type": "code",
   "execution_count": null,
   "metadata": {},
   "outputs": [],
   "source": []
  }
 ],
 "metadata": {
  "kernelspec": {
   "display_name": "Python 3",
   "language": "python",
   "name": "python3"
  },
  "language_info": {
   "codemirror_mode": {
    "name": "ipython",
    "version": 3
   },
   "file_extension": ".py",
   "mimetype": "text/x-python",
   "name": "python",
   "nbconvert_exporter": "python",
   "pygments_lexer": "ipython3",
   "version": "3.6.5"
  }
 },
 "nbformat": 4,
 "nbformat_minor": 2
}
